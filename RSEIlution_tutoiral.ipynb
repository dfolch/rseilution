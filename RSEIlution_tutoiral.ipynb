{
 "cells": [
  {
   "cell_type": "markdown",
   "metadata": {},
   "source": [
    "# Introduction to RSEIloution: R tools for deriving air toxicity for geographic coordinates"
   ]
  },
  {
   "cell_type": "markdown",
   "metadata": {},
   "source": [
    "---"
   ]
  },
  {
   "cell_type": "markdown",
   "metadata": {},
   "source": [
    "The RSEIloution package attaches annual air toxicity data from the U.S. Environmental Protection Agency's (EPA) Risk-Screening Environmental Indicators (RSEI) model to geolocated points. This tutorial demonstrates the flexibility avaible in how points can be passed in and toxicity data returned from the RESI-loution package."
   ]
  },
  {
   "cell_type": "markdown",
   "metadata": {},
   "source": [
    "Load the code"
   ]
  },
  {
   "cell_type": "code",
   "execution_count": 2,
   "metadata": {},
   "outputs": [],
   "source": [
    "source('RSEIAssignedToPoints.R')"
   ]
  },
  {
   "cell_type": "markdown",
   "metadata": {},
   "source": [
    "---"
   ]
  },
  {
   "cell_type": "markdown",
   "metadata": {},
   "source": [
    "### Initial example using single state, single year - R data frame"
   ]
  },
  {
   "cell_type": "markdown",
   "metadata": {},
   "source": [
    "We begin with the simplest case: passing an R `data.frame` object containing coordinates in long/lat projection from a single state and a single year. In this example there are 3 points in Rhode Island corresponding to the year 2002. "
   ]
  },
  {
   "cell_type": "code",
   "execution_count": 3,
   "metadata": {},
   "outputs": [
    {
     "data": {
      "text/html": [
       "<table>\n",
       "<caption>A data.frame: 3 × 2</caption>\n",
       "<thead>\n",
       "\t<tr><th scope=col>latitude</th><th scope=col>longitude</th></tr>\n",
       "\t<tr><th scope=col>&lt;dbl&gt;</th><th scope=col>&lt;dbl&gt;</th></tr>\n",
       "</thead>\n",
       "<tbody>\n",
       "\t<tr><td>41.48654</td><td>-71.30857</td></tr>\n",
       "\t<tr><td>41.81203</td><td>-71.41464</td></tr>\n",
       "\t<tr><td>41.85140</td><td>-71.40476</td></tr>\n",
       "</tbody>\n",
       "</table>\n"
      ],
      "text/latex": [
       "A data.frame: 3 × 2\n",
       "\\begin{tabular}{ll}\n",
       " latitude & longitude\\\\\n",
       " <dbl> & <dbl>\\\\\n",
       "\\hline\n",
       "\t 41.48654 & -71.30857\\\\\n",
       "\t 41.81203 & -71.41464\\\\\n",
       "\t 41.85140 & -71.40476\\\\\n",
       "\\end{tabular}\n"
      ],
      "text/markdown": [
       "\n",
       "A data.frame: 3 × 2\n",
       "\n",
       "| latitude &lt;dbl&gt; | longitude &lt;dbl&gt; |\n",
       "|---|---|\n",
       "| 41.48654 | -71.30857 |\n",
       "| 41.81203 | -71.41464 |\n",
       "| 41.85140 | -71.40476 |\n",
       "\n"
      ],
      "text/plain": [
       "  latitude longitude\n",
       "1 41.48654 -71.30857\n",
       "2 41.81203 -71.41464\n",
       "3 41.85140 -71.40476"
      ]
     },
     "metadata": {},
     "output_type": "display_data"
    }
   ],
   "source": [
    "# Build a data frame of points\n",
    "sp_df<-data.frame()\n",
    "sp_df<-data.frame(rbind(\n",
    "#RI pts\n",
    "c(41.486541,-71.308569),\n",
    "c(41.812033,-71.414641),\n",
    "c(41.8514,-71.4047633)))\n",
    "colnames(sp_df)<-c(\"latitude\",\"longitude\")\n",
    "sp_df"
   ]
  },
  {
   "cell_type": "markdown",
   "metadata": {},
   "source": [
    "Since all the points are in a single state and single year, we can pass the two-character state code to the `state` parameter and the four digit year to the `year` parameter. We also need to tell the function the column names containing the coordiantes."
   ]
  },
  {
   "cell_type": "markdown",
   "metadata": {},
   "source": [
    "<span style=\"color:red\">WARNING. The first time pulling data for a particular state-year combo is very time consuming. Depending on download speeds, computational power and the size of the state, this could take from a couple minutes to over an hour.</span>"
   ]
  },
  {
   "cell_type": "code",
   "execution_count": 4,
   "metadata": {
    "scrolled": true
   },
   "outputs": [],
   "source": [
    "spdf <- appendRSEI(data=sp_df,state='ri',year=2002,x_name='longitude',y_name='latitude')"
   ]
  },
  {
   "cell_type": "markdown",
   "metadata": {},
   "source": [
    "The function returns an R \"Spatial Points Data Frame.\" This object type contains its data in the `data` attribute. We can see that in addition to the lon/lat originally passed in, there are now columns for the state, year and ID added. The remaining columns come from the RSEI database starting with the total toxicity for the 0.5 mile square pixel in which the point falls, the pixel's population and the toxicity of specific chemicals in that pixel. Note that RSEI tracks over 600 toxic chemicals, the R object contains only those chemicals appearing near at least one of the points."
   ]
  },
  {
   "cell_type": "code",
   "execution_count": 5,
   "metadata": {},
   "outputs": [
    {
     "data": {
      "text/html": [
       "<table>\n",
       "<caption>A data.frame: 3 × 86</caption>\n",
       "<thead>\n",
       "\t<tr><th scope=col>New_ID</th><th scope=col>latitude</th><th scope=col>longitude</th><th scope=col>state</th><th scope=col>year</th><th scope=col>Toxicity</th><th scope=col>Pop</th><th scope=col>Acetaldehyde</th><th scope=col>Acetonitrile</th><th scope=col>Acetophenone</th><th scope=col>⋯</th><th scope=col>X1.2.4.Trimethylbenzene</th><th scope=col>Vanadium.and.vanadium.compounds</th><th scope=col>Vinyl.acetate</th><th scope=col>o.Xylene</th><th scope=col>Xylene..mixed.isomers.</th><th scope=col>Zinc.and.zinc.compounds</th><th scope=col>n.Hexane</th><th scope=col>Diisocyanates</th><th scope=col>Polycyclic.aromatic.compounds</th><th scope=col>Benzo.g.h.i.perylene</th></tr>\n",
       "\t<tr><th scope=col>&lt;int&gt;</th><th scope=col>&lt;dbl&gt;</th><th scope=col>&lt;dbl&gt;</th><th scope=col>&lt;chr&gt;</th><th scope=col>&lt;dbl&gt;</th><th scope=col>&lt;dbl&gt;</th><th scope=col>&lt;dbl&gt;</th><th scope=col>&lt;dbl&gt;</th><th scope=col>&lt;dbl&gt;</th><th scope=col>&lt;dbl&gt;</th><th scope=col>⋯</th><th scope=col>&lt;dbl&gt;</th><th scope=col>&lt;dbl&gt;</th><th scope=col>&lt;dbl&gt;</th><th scope=col>&lt;dbl&gt;</th><th scope=col>&lt;dbl&gt;</th><th scope=col>&lt;dbl&gt;</th><th scope=col>&lt;dbl&gt;</th><th scope=col>&lt;dbl&gt;</th><th scope=col>&lt;dbl&gt;</th><th scope=col>&lt;dbl&gt;</th></tr>\n",
       "</thead>\n",
       "<tbody>\n",
       "\t<tr><td>1</td><td>41.48654</td><td>-71.30857</td><td>ri</td><td>2002</td><td> 448.2835</td><td> 287.116</td><td>13.175385</td><td>        NA</td><td>       NA</td><td>⋯</td><td>0.01264093</td><td>0.0016691653</td><td>2.052557e-05</td><td>         NA</td><td>0.1721228</td><td>0.01222042</td><td>0.0007857093</td><td>       NA</td><td> 0.1066588</td><td>0.0001116548</td></tr>\n",
       "\t<tr><td>2</td><td>41.81203</td><td>-71.41464</td><td>ri</td><td>2002</td><td>6203.0493</td><td>4821.650</td><td> 4.573192</td><td>0.03286160</td><td>0.0218578</td><td>⋯</td><td>0.34941655</td><td>0.0007087670</td><td>2.555281e-05</td><td>0.000156988</td><td>0.1935253</td><td>0.05441026</td><td>0.0111554160</td><td>0.2608572</td><td>16.0653861</td><td>0.0017526866</td></tr>\n",
       "\t<tr><td>3</td><td>41.85140</td><td>-71.40476</td><td>ri</td><td>2002</td><td>3478.6836</td><td>2696.490</td><td> 3.819946</td><td>0.03490335</td><td>0.0440704</td><td>⋯</td><td>0.35054541</td><td>0.0007378543</td><td>2.399228e-05</td><td>0.000273019</td><td>0.3100584</td><td>0.08810834</td><td>0.0121911649</td><td>0.2684010</td><td>18.8211072</td><td>0.0019489345</td></tr>\n",
       "</tbody>\n",
       "</table>\n"
      ],
      "text/latex": [
       "A data.frame: 3 × 86\n",
       "\\begin{tabular}{lllllllllllllllllllll}\n",
       " New\\_ID & latitude & longitude & state & year & Toxicity & Pop & Acetaldehyde & Acetonitrile & Acetophenone & ⋯ & X1.2.4.Trimethylbenzene & Vanadium.and.vanadium.compounds & Vinyl.acetate & o.Xylene & Xylene..mixed.isomers. & Zinc.and.zinc.compounds & n.Hexane & Diisocyanates & Polycyclic.aromatic.compounds & Benzo.g.h.i.perylene\\\\\n",
       " <int> & <dbl> & <dbl> & <chr> & <dbl> & <dbl> & <dbl> & <dbl> & <dbl> & <dbl> & ⋯ & <dbl> & <dbl> & <dbl> & <dbl> & <dbl> & <dbl> & <dbl> & <dbl> & <dbl> & <dbl>\\\\\n",
       "\\hline\n",
       "\t 1 & 41.48654 & -71.30857 & ri & 2002 &  448.2835 &  287.116 & 13.175385 &         NA &        NA & ⋯ & 0.01264093 & 0.0016691653 & 2.052557e-05 &          NA & 0.1721228 & 0.01222042 & 0.0007857093 &        NA &  0.1066588 & 0.0001116548\\\\\n",
       "\t 2 & 41.81203 & -71.41464 & ri & 2002 & 6203.0493 & 4821.650 &  4.573192 & 0.03286160 & 0.0218578 & ⋯ & 0.34941655 & 0.0007087670 & 2.555281e-05 & 0.000156988 & 0.1935253 & 0.05441026 & 0.0111554160 & 0.2608572 & 16.0653861 & 0.0017526866\\\\\n",
       "\t 3 & 41.85140 & -71.40476 & ri & 2002 & 3478.6836 & 2696.490 &  3.819946 & 0.03490335 & 0.0440704 & ⋯ & 0.35054541 & 0.0007378543 & 2.399228e-05 & 0.000273019 & 0.3100584 & 0.08810834 & 0.0121911649 & 0.2684010 & 18.8211072 & 0.0019489345\\\\\n",
       "\\end{tabular}\n"
      ],
      "text/markdown": [
       "\n",
       "A data.frame: 3 × 86\n",
       "\n",
       "| New_ID &lt;int&gt; | latitude &lt;dbl&gt; | longitude &lt;dbl&gt; | state &lt;chr&gt; | year &lt;dbl&gt; | Toxicity &lt;dbl&gt; | Pop &lt;dbl&gt; | Acetaldehyde &lt;dbl&gt; | Acetonitrile &lt;dbl&gt; | Acetophenone &lt;dbl&gt; | ⋯ ⋯ | X1.2.4.Trimethylbenzene &lt;dbl&gt; | Vanadium.and.vanadium.compounds &lt;dbl&gt; | Vinyl.acetate &lt;dbl&gt; | o.Xylene &lt;dbl&gt; | Xylene..mixed.isomers. &lt;dbl&gt; | Zinc.and.zinc.compounds &lt;dbl&gt; | n.Hexane &lt;dbl&gt; | Diisocyanates &lt;dbl&gt; | Polycyclic.aromatic.compounds &lt;dbl&gt; | Benzo.g.h.i.perylene &lt;dbl&gt; |\n",
       "|---|---|---|---|---|---|---|---|---|---|---|---|---|---|---|---|---|---|---|---|---|\n",
       "| 1 | 41.48654 | -71.30857 | ri | 2002 |  448.2835 |  287.116 | 13.175385 |         NA |        NA | ⋯ | 0.01264093 | 0.0016691653 | 2.052557e-05 |          NA | 0.1721228 | 0.01222042 | 0.0007857093 |        NA |  0.1066588 | 0.0001116548 |\n",
       "| 2 | 41.81203 | -71.41464 | ri | 2002 | 6203.0493 | 4821.650 |  4.573192 | 0.03286160 | 0.0218578 | ⋯ | 0.34941655 | 0.0007087670 | 2.555281e-05 | 0.000156988 | 0.1935253 | 0.05441026 | 0.0111554160 | 0.2608572 | 16.0653861 | 0.0017526866 |\n",
       "| 3 | 41.85140 | -71.40476 | ri | 2002 | 3478.6836 | 2696.490 |  3.819946 | 0.03490335 | 0.0440704 | ⋯ | 0.35054541 | 0.0007378543 | 2.399228e-05 | 0.000273019 | 0.3100584 | 0.08810834 | 0.0121911649 | 0.2684010 | 18.8211072 | 0.0019489345 |\n",
       "\n"
      ],
      "text/plain": [
       "  New_ID latitude longitude state year Toxicity  Pop      Acetaldehyde\n",
       "1 1      41.48654 -71.30857 ri    2002  448.2835  287.116 13.175385   \n",
       "2 2      41.81203 -71.41464 ri    2002 6203.0493 4821.650  4.573192   \n",
       "3 3      41.85140 -71.40476 ri    2002 3478.6836 2696.490  3.819946   \n",
       "  Acetonitrile Acetophenone ⋯ X1.2.4.Trimethylbenzene\n",
       "1         NA          NA    ⋯ 0.01264093             \n",
       "2 0.03286160   0.0218578    ⋯ 0.34941655             \n",
       "3 0.03490335   0.0440704    ⋯ 0.35054541             \n",
       "  Vanadium.and.vanadium.compounds Vinyl.acetate o.Xylene   \n",
       "1 0.0016691653                    2.052557e-05           NA\n",
       "2 0.0007087670                    2.555281e-05  0.000156988\n",
       "3 0.0007378543                    2.399228e-05  0.000273019\n",
       "  Xylene..mixed.isomers. Zinc.and.zinc.compounds n.Hexane     Diisocyanates\n",
       "1 0.1721228              0.01222042              0.0007857093        NA    \n",
       "2 0.1935253              0.05441026              0.0111554160 0.2608572    \n",
       "3 0.3100584              0.08810834              0.0121911649 0.2684010    \n",
       "  Polycyclic.aromatic.compounds Benzo.g.h.i.perylene\n",
       "1  0.1066588                    0.0001116548        \n",
       "2 16.0653861                    0.0017526866        \n",
       "3 18.8211072                    0.0019489345        "
      ]
     },
     "metadata": {},
     "output_type": "display_data"
    }
   ],
   "source": [
    "spdf@data"
   ]
  },
  {
   "cell_type": "markdown",
   "metadata": {},
   "source": [
    "The data can be subset for easier viewing of specific toxins, for examaple total toxicity and lead."
   ]
  },
  {
   "cell_type": "code",
   "execution_count": 6,
   "metadata": {},
   "outputs": [
    {
     "data": {
      "text/html": [
       "<table>\n",
       "<caption>A data.frame: 3 × 6</caption>\n",
       "<thead>\n",
       "\t<tr><th scope=col>latitude</th><th scope=col>longitude</th><th scope=col>state</th><th scope=col>year</th><th scope=col>Toxicity</th><th scope=col>Lead.and.lead.compounds</th></tr>\n",
       "\t<tr><th scope=col>&lt;dbl&gt;</th><th scope=col>&lt;dbl&gt;</th><th scope=col>&lt;chr&gt;</th><th scope=col>&lt;dbl&gt;</th><th scope=col>&lt;dbl&gt;</th><th scope=col>&lt;dbl&gt;</th></tr>\n",
       "</thead>\n",
       "<tbody>\n",
       "\t<tr><td>41.48654</td><td>-71.30857</td><td>ri</td><td>2002</td><td> 448.2835</td><td>   3.849342</td></tr>\n",
       "\t<tr><td>41.81203</td><td>-71.41464</td><td>ri</td><td>2002</td><td>6203.0493</td><td>2189.540590</td></tr>\n",
       "\t<tr><td>41.85140</td><td>-71.40476</td><td>ri</td><td>2002</td><td>3478.6836</td><td> 342.229615</td></tr>\n",
       "</tbody>\n",
       "</table>\n"
      ],
      "text/latex": [
       "A data.frame: 3 × 6\n",
       "\\begin{tabular}{llllll}\n",
       " latitude & longitude & state & year & Toxicity & Lead.and.lead.compounds\\\\\n",
       " <dbl> & <dbl> & <chr> & <dbl> & <dbl> & <dbl>\\\\\n",
       "\\hline\n",
       "\t 41.48654 & -71.30857 & ri & 2002 &  448.2835 &    3.849342\\\\\n",
       "\t 41.81203 & -71.41464 & ri & 2002 & 6203.0493 & 2189.540590\\\\\n",
       "\t 41.85140 & -71.40476 & ri & 2002 & 3478.6836 &  342.229615\\\\\n",
       "\\end{tabular}\n"
      ],
      "text/markdown": [
       "\n",
       "A data.frame: 3 × 6\n",
       "\n",
       "| latitude &lt;dbl&gt; | longitude &lt;dbl&gt; | state &lt;chr&gt; | year &lt;dbl&gt; | Toxicity &lt;dbl&gt; | Lead.and.lead.compounds &lt;dbl&gt; |\n",
       "|---|---|---|---|---|---|\n",
       "| 41.48654 | -71.30857 | ri | 2002 |  448.2835 |    3.849342 |\n",
       "| 41.81203 | -71.41464 | ri | 2002 | 6203.0493 | 2189.540590 |\n",
       "| 41.85140 | -71.40476 | ri | 2002 | 3478.6836 |  342.229615 |\n",
       "\n"
      ],
      "text/plain": [
       "  latitude longitude state year Toxicity  Lead.and.lead.compounds\n",
       "1 41.48654 -71.30857 ri    2002  448.2835    3.849342            \n",
       "2 41.81203 -71.41464 ri    2002 6203.0493 2189.540590            \n",
       "3 41.85140 -71.40476 ri    2002 3478.6836  342.229615            "
      ]
     },
     "metadata": {},
     "output_type": "display_data"
    }
   ],
   "source": [
    "spdf@data[,c(\"latitude\",\"longitude\",\"state\",\"year\",\"Toxicity\",\"Lead.and.lead.compounds\")]"
   ]
  },
  {
   "cell_type": "markdown",
   "metadata": {},
   "source": [
    "A powerful feature of the RSEI data is that it is additive. This means that the sum of toxicity from the invidual chemicals equals the total toxicity."
   ]
  },
  {
   "cell_type": "code",
   "execution_count": 7,
   "metadata": {},
   "outputs": [
    {
     "data": {
      "text/html": [
       "6203.04930222517"
      ],
      "text/latex": [
       "6203.04930222517"
      ],
      "text/markdown": [
       "6203.04930222517"
      ],
      "text/plain": [
       "[1] 6203.049"
      ]
     },
     "metadata": {},
     "output_type": "display_data"
    }
   ],
   "source": [
    "# reported total toxicity for row 2\n",
    "spdf@data[2,'Toxicity']"
   ]
  },
  {
   "cell_type": "code",
   "execution_count": 8,
   "metadata": {},
   "outputs": [
    {
     "data": {
      "text/html": [
       "<strong>2:</strong> 6203.04930222517"
      ],
      "text/latex": [
       "\\textbf{2:} 6203.04930222517"
      ],
      "text/markdown": [
       "**2:** 6203.04930222517"
      ],
      "text/plain": [
       "       2 \n",
       "6203.049 "
      ]
     },
     "metadata": {},
     "output_type": "display_data"
    }
   ],
   "source": [
    "# sum of indivdual toxicities for row 2\n",
    "rowSums(spdf@data[2, !names(spdf@data) %in% c('New_ID','state','year','latitude','longitude','Toxicity','Pop')], na.rm=TRUE)"
   ]
  },
  {
   "cell_type": "markdown",
   "metadata": {},
   "source": [
    "We can also plot toxicity using the full raster data."
   ]
  },
  {
   "cell_type": "code",
   "execution_count": 9,
   "metadata": {},
   "outputs": [],
   "source": [
    "# read in the raster data\n",
    "ri_2002 = readRDS(\"grid_ri_2002.rds\")"
   ]
  },
  {
   "cell_type": "markdown",
   "metadata": {},
   "source": [
    "Plot the log of total toxicity."
   ]
  },
  {
   "cell_type": "code",
   "execution_count": 10,
   "metadata": {},
   "outputs": [
    {
     "data": {
      "image/png": "[encoded data removed]",
      "text/plain": [
       "Plot with title “”"
      ]
     },
     "metadata": {
      "image/png": {
       "height": 420,
       "width": 420
      }
     },
     "output_type": "display_data"
    }
   ],
   "source": [
    "#png('ri_2002_toxicity.png')\n",
    "# plot the raster\n",
    "plot(log(ri_2002$Total)) \n",
    "# convert the points to the same projection as the raster\n",
    "rsei_proj <- \"+proj=aea +lat_1=29.5 +lat_2=45.5 +lat_0=23 +lon_0=-96 +x_0=0 +y_0=0 +ellps=GRS80 +datum=NAD83 +units=m +no_defs\"\n",
    "spdf_proj <- spTransform(spdf,CRSobj = CRS(rsei_proj)) \n",
    "# plot the points\n",
    "plot(spdf_proj, add=TRUE, col='red')\n",
    "#dev.off()"
   ]
  },
  {
   "cell_type": "markdown",
   "metadata": {},
   "source": [
    "Plot the log of lead air toxicity using the same scale as total toxicity."
   ]
  },
  {
   "cell_type": "code",
   "execution_count": 11,
   "metadata": {},
   "outputs": [
    {
     "data": {
      "image/png": "[encoded data removed]",
      "text/plain": [
       "Plot with title “”"
      ]
     },
     "metadata": {
      "image/png": {
       "height": 420,
       "width": 420
      }
     },
     "output_type": "display_data"
    }
   ],
   "source": [
    "#png('ri_2002_lead.png')\n",
    "tox_min = cellStats(log(ri_2002$Total), stat='min')  # min of total toxicity\n",
    "tox_max = cellStats(log(ri_2002$Total), stat='max')  # max of total toxicity\n",
    "plot(log(ri_2002$Lead.and.lead.compounds), zlim=(c(tox_min, tox_max)))\n",
    "plot(spdf_proj, add=TRUE, col='red')\n",
    "#dev.off()"
   ]
  },
  {
   "cell_type": "markdown",
   "metadata": {},
   "source": [
    "### Single state, multiple years - R data frame"
   ]
  },
  {
   "cell_type": "markdown",
   "metadata": {},
   "source": [
    "This example contains points in Rhode Island for 2002 and 2003."
   ]
  },
  {
   "cell_type": "code",
   "execution_count": 12,
   "metadata": {},
   "outputs": [
    {
     "data": {
      "text/html": [
       "<table>\n",
       "<caption>A data.frame: 6 × 3</caption>\n",
       "<thead>\n",
       "\t<tr><th scope=col>latitude</th><th scope=col>longitude</th><th scope=col>Year</th></tr>\n",
       "\t<tr><th scope=col>&lt;dbl&gt;</th><th scope=col>&lt;dbl&gt;</th><th scope=col>&lt;dbl&gt;</th></tr>\n",
       "</thead>\n",
       "<tbody>\n",
       "\t<tr><td>41.48654</td><td>-71.30857</td><td>2002</td></tr>\n",
       "\t<tr><td>41.48654</td><td>-71.30857</td><td>2003</td></tr>\n",
       "\t<tr><td>41.81203</td><td>-71.41464</td><td>2002</td></tr>\n",
       "\t<tr><td>41.81203</td><td>-71.41464</td><td>2003</td></tr>\n",
       "\t<tr><td>41.85140</td><td>-71.40476</td><td>2002</td></tr>\n",
       "\t<tr><td>41.85140</td><td>-71.40476</td><td>2003</td></tr>\n",
       "</tbody>\n",
       "</table>\n"
      ],
      "text/latex": [
       "A data.frame: 6 × 3\n",
       "\\begin{tabular}{lll}\n",
       " latitude & longitude & Year\\\\\n",
       " <dbl> & <dbl> & <dbl>\\\\\n",
       "\\hline\n",
       "\t 41.48654 & -71.30857 & 2002\\\\\n",
       "\t 41.48654 & -71.30857 & 2003\\\\\n",
       "\t 41.81203 & -71.41464 & 2002\\\\\n",
       "\t 41.81203 & -71.41464 & 2003\\\\\n",
       "\t 41.85140 & -71.40476 & 2002\\\\\n",
       "\t 41.85140 & -71.40476 & 2003\\\\\n",
       "\\end{tabular}\n"
      ],
      "text/markdown": [
       "\n",
       "A data.frame: 6 × 3\n",
       "\n",
       "| latitude &lt;dbl&gt; | longitude &lt;dbl&gt; | Year &lt;dbl&gt; |\n",
       "|---|---|---|\n",
       "| 41.48654 | -71.30857 | 2002 |\n",
       "| 41.48654 | -71.30857 | 2003 |\n",
       "| 41.81203 | -71.41464 | 2002 |\n",
       "| 41.81203 | -71.41464 | 2003 |\n",
       "| 41.85140 | -71.40476 | 2002 |\n",
       "| 41.85140 | -71.40476 | 2003 |\n",
       "\n"
      ],
      "text/plain": [
       "  latitude longitude Year\n",
       "1 41.48654 -71.30857 2002\n",
       "2 41.48654 -71.30857 2003\n",
       "3 41.81203 -71.41464 2002\n",
       "4 41.81203 -71.41464 2003\n",
       "5 41.85140 -71.40476 2002\n",
       "6 41.85140 -71.40476 2003"
      ]
     },
     "metadata": {},
     "output_type": "display_data"
    }
   ],
   "source": [
    "sp_df<-data.frame()\n",
    "sp_df<-data.frame(rbind(\n",
    "#RI pts\n",
    "c(41.486541,-71.308569),\n",
    "c(41.486541,-71.308569),\n",
    "c(41.812033,-71.414641),\n",
    "c(41.812033,-71.414641),\n",
    "c(41.8514,-71.4047633),\n",
    "c(41.8514,-71.4047633)))\n",
    "colnames(sp_df)<-c(\"latitude\",\"longitude\")\n",
    "sp_df$Year<-c(2002,2003,2002,2003,2002,2003)\n",
    "sp_df"
   ]
  },
  {
   "cell_type": "markdown",
   "metadata": {},
   "source": [
    "If we want RSEI data for mulitple years we must label each row with its year, and then tell the function the name of the column containing the year data."
   ]
  },
  {
   "cell_type": "code",
   "execution_count": 13,
   "metadata": {},
   "outputs": [],
   "source": [
    "spdf <- appendRSEI(data=sp_df,state='ri',year='Year',x_name='longitude',y_name='latitude')"
   ]
  },
  {
   "cell_type": "code",
   "execution_count": 14,
   "metadata": {},
   "outputs": [
    {
     "data": {
      "text/html": [
       "<table>\n",
       "<caption>A data.frame: 6 × 88</caption>\n",
       "<thead>\n",
       "\t<tr><th scope=col>New_ID</th><th scope=col>latitude</th><th scope=col>longitude</th><th scope=col>Year</th><th scope=col>state</th><th scope=col>Toxicity</th><th scope=col>Pop</th><th scope=col>Acetaldehyde</th><th scope=col>Acetonitrile</th><th scope=col>Acetophenone</th><th scope=col>⋯</th><th scope=col>Vinyl.acetate</th><th scope=col>o.Xylene</th><th scope=col>Xylene..mixed.isomers.</th><th scope=col>Zinc.and.zinc.compounds</th><th scope=col>n.Hexane</th><th scope=col>Diisocyanates</th><th scope=col>Polycyclic.aromatic.compounds</th><th scope=col>Benzo.g.h.i.perylene</th><th scope=col>Chlorine.dioxide</th><th scope=col>Selenium.and.selenium.compounds</th></tr>\n",
       "\t<tr><th scope=col>&lt;int&gt;</th><th scope=col>&lt;dbl&gt;</th><th scope=col>&lt;dbl&gt;</th><th scope=col>&lt;dbl&gt;</th><th scope=col>&lt;chr&gt;</th><th scope=col>&lt;dbl&gt;</th><th scope=col>&lt;dbl&gt;</th><th scope=col>&lt;dbl&gt;</th><th scope=col>&lt;dbl&gt;</th><th scope=col>&lt;dbl&gt;</th><th scope=col>⋯</th><th scope=col>&lt;dbl&gt;</th><th scope=col>&lt;dbl&gt;</th><th scope=col>&lt;dbl&gt;</th><th scope=col>&lt;dbl&gt;</th><th scope=col>&lt;dbl&gt;</th><th scope=col>&lt;dbl&gt;</th><th scope=col>&lt;dbl&gt;</th><th scope=col>&lt;dbl&gt;</th><th scope=col>&lt;dbl&gt;</th><th scope=col>&lt;dbl&gt;</th></tr>\n",
       "</thead>\n",
       "<tbody>\n",
       "\t<tr><td>1</td><td>41.48654</td><td>-71.30857</td><td>2002</td><td>ri</td><td> 448.2835</td><td> 287.116</td><td>13.175385</td><td>        NA</td><td>       NA</td><td>⋯</td><td>2.052557e-05</td><td>         NA</td><td>0.17212282</td><td>0.012220423</td><td>0.0007857093</td><td>       NA</td><td>   0.1066588</td><td>0.0001116548</td><td>NA</td><td>        NA</td></tr>\n",
       "\t<tr><td>2</td><td>41.48654</td><td>-71.30857</td><td>2003</td><td>ri</td><td>1681.4634</td><td> 282.673</td><td>12.758531</td><td>        NA</td><td>       NA</td><td>⋯</td><td>8.108730e-06</td><td>         NA</td><td>0.01575705</td><td>0.007051879</td><td>0.0017833557</td><td>       NA</td><td>1209.2142623</td><td>0.4117490196</td><td>NA</td><td>0.00690981</td></tr>\n",
       "\t<tr><td>3</td><td>41.81203</td><td>-71.41464</td><td>2002</td><td>ri</td><td>6203.0493</td><td>4821.650</td><td> 4.573192</td><td>0.03286160</td><td>0.0218578</td><td>⋯</td><td>2.555281e-05</td><td>0.000156988</td><td>0.19352526</td><td>0.054410257</td><td>0.0111554160</td><td>0.2608572</td><td>  16.0653861</td><td>0.0017526866</td><td>NA</td><td>        NA</td></tr>\n",
       "\t<tr><td>4</td><td>41.81203</td><td>-71.41464</td><td>2003</td><td>ri</td><td>3624.8945</td><td>4788.800</td><td> 4.443418</td><td>0.01445186</td><td>0.0241869</td><td>⋯</td><td>9.791950e-06</td><td>         NA</td><td>0.10437957</td><td>0.051609809</td><td>0.0100200497</td><td>0.2608572</td><td> 186.0896150</td><td>0.0638615671</td><td>NA</td><td>0.00315490</td></tr>\n",
       "\t<tr><td>5</td><td>41.85140</td><td>-71.40476</td><td>2002</td><td>ri</td><td>3478.6836</td><td>2696.490</td><td> 3.819946</td><td>0.03490335</td><td>0.0440704</td><td>⋯</td><td>2.399228e-05</td><td>0.000273019</td><td>0.31005844</td><td>0.088108338</td><td>0.0121911649</td><td>0.2684010</td><td>  18.8211072</td><td>0.0019489345</td><td>NA</td><td>        NA</td></tr>\n",
       "\t<tr><td>6</td><td>41.85140</td><td>-71.40476</td><td>2003</td><td>ri</td><td>2280.4382</td><td>2718.270</td><td> 3.712228</td><td>0.01547743</td><td>0.0487664</td><td>⋯</td><td>9.039380e-06</td><td>         NA</td><td>0.30597655</td><td>0.084628354</td><td>0.0105461845</td><td>0.2684010</td><td>  19.2728640</td><td>0.0012549836</td><td>NA</td><td>0.00332292</td></tr>\n",
       "</tbody>\n",
       "</table>\n"
      ],
      "text/latex": [
       "A data.frame: 6 × 88\n",
       "\\begin{tabular}{lllllllllllllllllllll}\n",
       " New\\_ID & latitude & longitude & Year & state & Toxicity & Pop & Acetaldehyde & Acetonitrile & Acetophenone & ⋯ & Vinyl.acetate & o.Xylene & Xylene..mixed.isomers. & Zinc.and.zinc.compounds & n.Hexane & Diisocyanates & Polycyclic.aromatic.compounds & Benzo.g.h.i.perylene & Chlorine.dioxide & Selenium.and.selenium.compounds\\\\\n",
       " <int> & <dbl> & <dbl> & <dbl> & <chr> & <dbl> & <dbl> & <dbl> & <dbl> & <dbl> & ⋯ & <dbl> & <dbl> & <dbl> & <dbl> & <dbl> & <dbl> & <dbl> & <dbl> & <dbl> & <dbl>\\\\\n",
       "\\hline\n",
       "\t 1 & 41.48654 & -71.30857 & 2002 & ri &  448.2835 &  287.116 & 13.175385 &         NA &        NA & ⋯ & 2.052557e-05 &          NA & 0.17212282 & 0.012220423 & 0.0007857093 &        NA &    0.1066588 & 0.0001116548 & NA &         NA\\\\\n",
       "\t 2 & 41.48654 & -71.30857 & 2003 & ri & 1681.4634 &  282.673 & 12.758531 &         NA &        NA & ⋯ & 8.108730e-06 &          NA & 0.01575705 & 0.007051879 & 0.0017833557 &        NA & 1209.2142623 & 0.4117490196 & NA & 0.00690981\\\\\n",
       "\t 3 & 41.81203 & -71.41464 & 2002 & ri & 6203.0493 & 4821.650 &  4.573192 & 0.03286160 & 0.0218578 & ⋯ & 2.555281e-05 & 0.000156988 & 0.19352526 & 0.054410257 & 0.0111554160 & 0.2608572 &   16.0653861 & 0.0017526866 & NA &         NA\\\\\n",
       "\t 4 & 41.81203 & -71.41464 & 2003 & ri & 3624.8945 & 4788.800 &  4.443418 & 0.01445186 & 0.0241869 & ⋯ & 9.791950e-06 &          NA & 0.10437957 & 0.051609809 & 0.0100200497 & 0.2608572 &  186.0896150 & 0.0638615671 & NA & 0.00315490\\\\\n",
       "\t 5 & 41.85140 & -71.40476 & 2002 & ri & 3478.6836 & 2696.490 &  3.819946 & 0.03490335 & 0.0440704 & ⋯ & 2.399228e-05 & 0.000273019 & 0.31005844 & 0.088108338 & 0.0121911649 & 0.2684010 &   18.8211072 & 0.0019489345 & NA &         NA\\\\\n",
       "\t 6 & 41.85140 & -71.40476 & 2003 & ri & 2280.4382 & 2718.270 &  3.712228 & 0.01547743 & 0.0487664 & ⋯ & 9.039380e-06 &          NA & 0.30597655 & 0.084628354 & 0.0105461845 & 0.2684010 &   19.2728640 & 0.0012549836 & NA & 0.00332292\\\\\n",
       "\\end{tabular}\n"
      ],
      "text/markdown": [
       "\n",
       "A data.frame: 6 × 88\n",
       "\n",
       "| New_ID &lt;int&gt; | latitude &lt;dbl&gt; | longitude &lt;dbl&gt; | Year &lt;dbl&gt; | state &lt;chr&gt; | Toxicity &lt;dbl&gt; | Pop &lt;dbl&gt; | Acetaldehyde &lt;dbl&gt; | Acetonitrile &lt;dbl&gt; | Acetophenone &lt;dbl&gt; | ⋯ ⋯ | Vinyl.acetate &lt;dbl&gt; | o.Xylene &lt;dbl&gt; | Xylene..mixed.isomers. &lt;dbl&gt; | Zinc.and.zinc.compounds &lt;dbl&gt; | n.Hexane &lt;dbl&gt; | Diisocyanates &lt;dbl&gt; | Polycyclic.aromatic.compounds &lt;dbl&gt; | Benzo.g.h.i.perylene &lt;dbl&gt; | Chlorine.dioxide &lt;dbl&gt; | Selenium.and.selenium.compounds &lt;dbl&gt; |\n",
       "|---|---|---|---|---|---|---|---|---|---|---|---|---|---|---|---|---|---|---|---|---|\n",
       "| 1 | 41.48654 | -71.30857 | 2002 | ri |  448.2835 |  287.116 | 13.175385 |         NA |        NA | ⋯ | 2.052557e-05 |          NA | 0.17212282 | 0.012220423 | 0.0007857093 |        NA |    0.1066588 | 0.0001116548 | NA |         NA |\n",
       "| 2 | 41.48654 | -71.30857 | 2003 | ri | 1681.4634 |  282.673 | 12.758531 |         NA |        NA | ⋯ | 8.108730e-06 |          NA | 0.01575705 | 0.007051879 | 0.0017833557 |        NA | 1209.2142623 | 0.4117490196 | NA | 0.00690981 |\n",
       "| 3 | 41.81203 | -71.41464 | 2002 | ri | 6203.0493 | 4821.650 |  4.573192 | 0.03286160 | 0.0218578 | ⋯ | 2.555281e-05 | 0.000156988 | 0.19352526 | 0.054410257 | 0.0111554160 | 0.2608572 |   16.0653861 | 0.0017526866 | NA |         NA |\n",
       "| 4 | 41.81203 | -71.41464 | 2003 | ri | 3624.8945 | 4788.800 |  4.443418 | 0.01445186 | 0.0241869 | ⋯ | 9.791950e-06 |          NA | 0.10437957 | 0.051609809 | 0.0100200497 | 0.2608572 |  186.0896150 | 0.0638615671 | NA | 0.00315490 |\n",
       "| 5 | 41.85140 | -71.40476 | 2002 | ri | 3478.6836 | 2696.490 |  3.819946 | 0.03490335 | 0.0440704 | ⋯ | 2.399228e-05 | 0.000273019 | 0.31005844 | 0.088108338 | 0.0121911649 | 0.2684010 |   18.8211072 | 0.0019489345 | NA |         NA |\n",
       "| 6 | 41.85140 | -71.40476 | 2003 | ri | 2280.4382 | 2718.270 |  3.712228 | 0.01547743 | 0.0487664 | ⋯ | 9.039380e-06 |          NA | 0.30597655 | 0.084628354 | 0.0105461845 | 0.2684010 |   19.2728640 | 0.0012549836 | NA | 0.00332292 |\n",
       "\n"
      ],
      "text/plain": [
       "  New_ID latitude longitude Year state Toxicity  Pop      Acetaldehyde\n",
       "1 1      41.48654 -71.30857 2002 ri     448.2835  287.116 13.175385   \n",
       "2 2      41.48654 -71.30857 2003 ri    1681.4634  282.673 12.758531   \n",
       "3 3      41.81203 -71.41464 2002 ri    6203.0493 4821.650  4.573192   \n",
       "4 4      41.81203 -71.41464 2003 ri    3624.8945 4788.800  4.443418   \n",
       "5 5      41.85140 -71.40476 2002 ri    3478.6836 2696.490  3.819946   \n",
       "6 6      41.85140 -71.40476 2003 ri    2280.4382 2718.270  3.712228   \n",
       "  Acetonitrile Acetophenone ⋯ Vinyl.acetate o.Xylene    Xylene..mixed.isomers.\n",
       "1         NA          NA    ⋯ 2.052557e-05           NA 0.17212282            \n",
       "2         NA          NA    ⋯ 8.108730e-06           NA 0.01575705            \n",
       "3 0.03286160   0.0218578    ⋯ 2.555281e-05  0.000156988 0.19352526            \n",
       "4 0.01445186   0.0241869    ⋯ 9.791950e-06           NA 0.10437957            \n",
       "5 0.03490335   0.0440704    ⋯ 2.399228e-05  0.000273019 0.31005844            \n",
       "6 0.01547743   0.0487664    ⋯ 9.039380e-06           NA 0.30597655            \n",
       "  Zinc.and.zinc.compounds n.Hexane     Diisocyanates\n",
       "1 0.012220423             0.0007857093        NA    \n",
       "2 0.007051879             0.0017833557        NA    \n",
       "3 0.054410257             0.0111554160 0.2608572    \n",
       "4 0.051609809             0.0100200497 0.2608572    \n",
       "5 0.088108338             0.0121911649 0.2684010    \n",
       "6 0.084628354             0.0105461845 0.2684010    \n",
       "  Polycyclic.aromatic.compounds Benzo.g.h.i.perylene Chlorine.dioxide\n",
       "1    0.1066588                  0.0001116548         NA              \n",
       "2 1209.2142623                  0.4117490196         NA              \n",
       "3   16.0653861                  0.0017526866         NA              \n",
       "4  186.0896150                  0.0638615671         NA              \n",
       "5   18.8211072                  0.0019489345         NA              \n",
       "6   19.2728640                  0.0012549836         NA              \n",
       "  Selenium.and.selenium.compounds\n",
       "1         NA                     \n",
       "2 0.00690981                     \n",
       "3         NA                     \n",
       "4 0.00315490                     \n",
       "5         NA                     \n",
       "6 0.00332292                     "
      ]
     },
     "metadata": {},
     "output_type": "display_data"
    }
   ],
   "source": [
    "spdf@data"
   ]
  },
  {
   "cell_type": "markdown",
   "metadata": {},
   "source": [
    "### Multiple states, multiple years - R data frame"
   ]
  },
  {
   "cell_type": "markdown",
   "metadata": {},
   "source": [
    "This example has points from Rhode Island and Deleware for 2002 and 2003."
   ]
  },
  {
   "cell_type": "code",
   "execution_count": 15,
   "metadata": {},
   "outputs": [
    {
     "data": {
      "text/html": [
       "<table>\n",
       "<caption>A data.frame: 12 × 4</caption>\n",
       "<thead>\n",
       "\t<tr><th scope=col>latitude</th><th scope=col>longitude</th><th scope=col>state</th><th scope=col>year</th></tr>\n",
       "\t<tr><th scope=col>&lt;dbl&gt;</th><th scope=col>&lt;dbl&gt;</th><th scope=col>&lt;chr&gt;</th><th scope=col>&lt;dbl&gt;</th></tr>\n",
       "</thead>\n",
       "<tbody>\n",
       "\t<tr><td>41.48654</td><td>-71.30857</td><td>ri</td><td>2002</td></tr>\n",
       "\t<tr><td>41.48654</td><td>-71.30857</td><td>ri</td><td>2003</td></tr>\n",
       "\t<tr><td>41.81203</td><td>-71.41464</td><td>ri</td><td>2002</td></tr>\n",
       "\t<tr><td>41.81203</td><td>-71.41464</td><td>ri</td><td>2003</td></tr>\n",
       "\t<tr><td>41.85140</td><td>-71.40476</td><td>ri</td><td>2002</td></tr>\n",
       "\t<tr><td>41.85140</td><td>-71.40476</td><td>ri</td><td>2003</td></tr>\n",
       "\t<tr><td>39.72989</td><td>-75.56450</td><td>de</td><td>2002</td></tr>\n",
       "\t<tr><td>39.72989</td><td>-75.56450</td><td>de</td><td>2003</td></tr>\n",
       "\t<tr><td>39.73793</td><td>-75.58988</td><td>de</td><td>2002</td></tr>\n",
       "\t<tr><td>39.73793</td><td>-75.58988</td><td>de</td><td>2003</td></tr>\n",
       "\t<tr><td>39.74178</td><td>-75.63618</td><td>de</td><td>2002</td></tr>\n",
       "\t<tr><td>39.74178</td><td>-75.63618</td><td>de</td><td>2003</td></tr>\n",
       "</tbody>\n",
       "</table>\n"
      ],
      "text/latex": [
       "A data.frame: 12 × 4\n",
       "\\begin{tabular}{llll}\n",
       " latitude & longitude & state & year\\\\\n",
       " <dbl> & <dbl> & <chr> & <dbl>\\\\\n",
       "\\hline\n",
       "\t 41.48654 & -71.30857 & ri & 2002\\\\\n",
       "\t 41.48654 & -71.30857 & ri & 2003\\\\\n",
       "\t 41.81203 & -71.41464 & ri & 2002\\\\\n",
       "\t 41.81203 & -71.41464 & ri & 2003\\\\\n",
       "\t 41.85140 & -71.40476 & ri & 2002\\\\\n",
       "\t 41.85140 & -71.40476 & ri & 2003\\\\\n",
       "\t 39.72989 & -75.56450 & de & 2002\\\\\n",
       "\t 39.72989 & -75.56450 & de & 2003\\\\\n",
       "\t 39.73793 & -75.58988 & de & 2002\\\\\n",
       "\t 39.73793 & -75.58988 & de & 2003\\\\\n",
       "\t 39.74178 & -75.63618 & de & 2002\\\\\n",
       "\t 39.74178 & -75.63618 & de & 2003\\\\\n",
       "\\end{tabular}\n"
      ],
      "text/markdown": [
       "\n",
       "A data.frame: 12 × 4\n",
       "\n",
       "| latitude &lt;dbl&gt; | longitude &lt;dbl&gt; | state &lt;chr&gt; | year &lt;dbl&gt; |\n",
       "|---|---|---|---|\n",
       "| 41.48654 | -71.30857 | ri | 2002 |\n",
       "| 41.48654 | -71.30857 | ri | 2003 |\n",
       "| 41.81203 | -71.41464 | ri | 2002 |\n",
       "| 41.81203 | -71.41464 | ri | 2003 |\n",
       "| 41.85140 | -71.40476 | ri | 2002 |\n",
       "| 41.85140 | -71.40476 | ri | 2003 |\n",
       "| 39.72989 | -75.56450 | de | 2002 |\n",
       "| 39.72989 | -75.56450 | de | 2003 |\n",
       "| 39.73793 | -75.58988 | de | 2002 |\n",
       "| 39.73793 | -75.58988 | de | 2003 |\n",
       "| 39.74178 | -75.63618 | de | 2002 |\n",
       "| 39.74178 | -75.63618 | de | 2003 |\n",
       "\n"
      ],
      "text/plain": [
       "   latitude longitude state year\n",
       "1  41.48654 -71.30857 ri    2002\n",
       "2  41.48654 -71.30857 ri    2003\n",
       "3  41.81203 -71.41464 ri    2002\n",
       "4  41.81203 -71.41464 ri    2003\n",
       "5  41.85140 -71.40476 ri    2002\n",
       "6  41.85140 -71.40476 ri    2003\n",
       "7  39.72989 -75.56450 de    2002\n",
       "8  39.72989 -75.56450 de    2003\n",
       "9  39.73793 -75.58988 de    2002\n",
       "10 39.73793 -75.58988 de    2003\n",
       "11 39.74178 -75.63618 de    2002\n",
       "12 39.74178 -75.63618 de    2003"
      ]
     },
     "metadata": {},
     "output_type": "display_data"
    }
   ],
   "source": [
    "sp_df<-data.frame()\n",
    "\n",
    "sp_df<-data.frame(rbind(\n",
    "#RI pts\n",
    "c(41.486541,-71.308569),\n",
    "c(41.486541,-71.308569),\n",
    "c(41.812033,-71.414641),\n",
    "c(41.812033,-71.414641),\n",
    "c(41.8514,-71.4047633),\n",
    "c(41.8514,-71.4047633),\n",
    "#DE pts\n",
    "c(39.7298862,-75.5645039),\n",
    "c(39.7298862,-75.5645039),\n",
    "c(39.7379306,-75.5898776),\n",
    "c(39.7379306,-75.5898776),\n",
    "c(39.7417784,-75.6361824),\n",
    "c(39.7417784,-75.6361824)))\n",
    "colnames(sp_df)<-c(\"latitude\",\"longitude\")\n",
    "sp_df$state<-c(\"ri\",\"ri\",\"ri\",\"ri\",\"ri\",\"ri\",\"de\",\"de\",\"de\",\"de\",\"de\",\"de\")\n",
    "sp_df$year<-c(2002,2003,2002,2003,2002,2003,2002,2003,2002,2003,2002,2003)\n",
    "sp_df"
   ]
  },
  {
   "cell_type": "markdown",
   "metadata": {},
   "source": [
    "Similar to the case of multiple years, if points are in different states, each record needs to be labled with its two letter state code. Instead of supplying the specific state argument as we did above, we now pass the column name to the `state` parameter.  "
   ]
  },
  {
   "cell_type": "code",
   "execution_count": 16,
   "metadata": {
    "scrolled": false
   },
   "outputs": [
    {
     "data": {
      "text/html": [
       "<table>\n",
       "<caption>A data.frame: 12 × 159</caption>\n",
       "<thead>\n",
       "\t<tr><th scope=col>New_ID</th><th scope=col>latitude</th><th scope=col>longitude</th><th scope=col>state</th><th scope=col>year</th><th scope=col>Toxicity</th><th scope=col>Pop</th><th scope=col>Acetaldehyde</th><th scope=col>Acetonitrile</th><th scope=col>Acetophenone</th><th scope=col>⋯</th><th scope=col>p.Cresol</th><th scope=col>Dichlorobenzene..mixed.isomers.</th><th scope=col>Dioxane</th><th scope=col>Hydroquinone</th><th scope=col>Nitrapyrin</th><th scope=col>Pendimethalin</th><th scope=col>Picric.acid</th><th scope=col>X2.4.6.Trichlorophenol</th><th scope=col>Vinylidene.chloride..1.1.dichloroethylene.</th><th scope=col>Pentachlorobenzene</th></tr>\n",
       "\t<tr><th scope=col>&lt;int&gt;</th><th scope=col>&lt;dbl&gt;</th><th scope=col>&lt;dbl&gt;</th><th scope=col>&lt;chr&gt;</th><th scope=col>&lt;dbl&gt;</th><th scope=col>&lt;dbl&gt;</th><th scope=col>&lt;dbl&gt;</th><th scope=col>&lt;dbl&gt;</th><th scope=col>&lt;dbl&gt;</th><th scope=col>&lt;dbl&gt;</th><th scope=col>⋯</th><th scope=col>&lt;dbl&gt;</th><th scope=col>&lt;dbl&gt;</th><th scope=col>&lt;dbl&gt;</th><th scope=col>&lt;dbl&gt;</th><th scope=col>&lt;dbl&gt;</th><th scope=col>&lt;dbl&gt;</th><th scope=col>&lt;dbl&gt;</th><th scope=col>&lt;dbl&gt;</th><th scope=col>&lt;dbl&gt;</th><th scope=col>&lt;dbl&gt;</th></tr>\n",
       "</thead>\n",
       "<tbody>\n",
       "\t<tr><td> 1</td><td>41.48654</td><td>-71.30857</td><td>ri</td><td>2002</td><td>  448.2835</td><td> 287.116</td><td>13.1753850</td><td>         NA</td><td>          NA</td><td>⋯</td><td>         NA</td><td>        NA</td><td>       NA</td><td>         NA</td><td>     NA</td><td>         NA</td><td>        NA</td><td>      NA</td><td>         NA</td><td>         NA</td></tr>\n",
       "\t<tr><td> 2</td><td>41.48654</td><td>-71.30857</td><td>ri</td><td>2003</td><td> 1681.4634</td><td> 282.673</td><td>12.7585310</td><td>         NA</td><td>          NA</td><td>⋯</td><td>         NA</td><td>        NA</td><td>       NA</td><td>         NA</td><td>     NA</td><td>         NA</td><td>        NA</td><td>      NA</td><td>         NA</td><td>         NA</td></tr>\n",
       "\t<tr><td> 3</td><td>41.81203</td><td>-71.41464</td><td>ri</td><td>2002</td><td> 6203.0493</td><td>4821.650</td><td> 4.5731921</td><td>0.032861600</td><td>2.185780e-02</td><td>⋯</td><td>         NA</td><td>        NA</td><td>       NA</td><td>         NA</td><td>     NA</td><td>         NA</td><td>        NA</td><td>      NA</td><td>         NA</td><td>         NA</td></tr>\n",
       "\t<tr><td> 4</td><td>41.81203</td><td>-71.41464</td><td>ri</td><td>2003</td><td> 3624.8945</td><td>4788.800</td><td> 4.4434179</td><td>0.014451858</td><td>2.418690e-02</td><td>⋯</td><td>         NA</td><td>        NA</td><td>       NA</td><td>         NA</td><td>     NA</td><td>         NA</td><td>        NA</td><td>      NA</td><td>         NA</td><td>         NA</td></tr>\n",
       "\t<tr><td> 5</td><td>41.85140</td><td>-71.40476</td><td>ri</td><td>2002</td><td> 3478.6836</td><td>2696.490</td><td> 3.8199463</td><td>0.034903350</td><td>4.407040e-02</td><td>⋯</td><td>         NA</td><td>        NA</td><td>       NA</td><td>         NA</td><td>     NA</td><td>         NA</td><td>        NA</td><td>      NA</td><td>         NA</td><td>         NA</td></tr>\n",
       "\t<tr><td> 6</td><td>41.85140</td><td>-71.40476</td><td>ri</td><td>2003</td><td> 2280.4382</td><td>2718.270</td><td> 3.7122275</td><td>0.015477429</td><td>4.876640e-02</td><td>⋯</td><td>         NA</td><td>        NA</td><td>       NA</td><td>         NA</td><td>     NA</td><td>         NA</td><td>        NA</td><td>      NA</td><td>         NA</td><td>         NA</td></tr>\n",
       "\t<tr><td> 7</td><td>39.72989</td><td>-75.56450</td><td>de</td><td>2002</td><td>19344.2975</td><td>1667.700</td><td> 0.0664879</td><td>0.014608788</td><td>9.536654e-05</td><td>⋯</td><td>         NA</td><td>        NA</td><td>       NA</td><td>         NA</td><td>     NA</td><td>         NA</td><td>        NA</td><td>      NA</td><td>         NA</td><td>         NA</td></tr>\n",
       "\t<tr><td> 8</td><td>39.72989</td><td>-75.56450</td><td>de</td><td>2003</td><td>15297.1513</td><td>1648.020</td><td>        NA</td><td>0.058093673</td><td>8.014358e-05</td><td>⋯</td><td>1.97086e-05</td><td>0.00209470</td><td>0.0501374</td><td>5.82889e-05</td><td>2.31850</td><td>4.99329e-07</td><td>0.00389732</td><td>0.193211</td><td>0.000370246</td><td>0.000689127</td></tr>\n",
       "\t<tr><td> 9</td><td>39.73793</td><td>-75.58988</td><td>de</td><td>2002</td><td>20792.4774</td><td>1295.930</td><td> 0.0472599</td><td>0.012864160</td><td>9.504446e-05</td><td>⋯</td><td>         NA</td><td>        NA</td><td>       NA</td><td>         NA</td><td>     NA</td><td>         NA</td><td>        NA</td><td>      NA</td><td>         NA</td><td>         NA</td></tr>\n",
       "\t<tr><td>10</td><td>39.73793</td><td>-75.58988</td><td>de</td><td>2003</td><td>16028.1318</td><td>1299.580</td><td>        NA</td><td>0.044517150</td><td>7.993891e-05</td><td>⋯</td><td>1.35855e-05</td><td>0.00151293</td><td>0.0358201</td><td>3.77766e-05</td><td>1.67530</td><td>3.49659e-07</td><td>0.00281612</td><td>0.139533</td><td>0.000264518</td><td>0.000479025</td></tr>\n",
       "\t<tr><td>11</td><td>39.74178</td><td>-75.63618</td><td>de</td><td>2002</td><td>19829.8122</td><td> 624.536</td><td> 0.0357069</td><td>0.008624243</td><td>8.356429e-05</td><td>⋯</td><td>         NA</td><td>        NA</td><td>       NA</td><td>         NA</td><td>     NA</td><td>         NA</td><td>        NA</td><td>      NA</td><td>         NA</td><td>         NA</td></tr>\n",
       "\t<tr><td>12</td><td>39.74178</td><td>-75.63618</td><td>de</td><td>2003</td><td>15524.7662</td><td> 620.483</td><td>        NA</td><td>0.032697829</td><td>7.028488e-05</td><td>⋯</td><td>9.88875e-06</td><td>0.00116613</td><td>0.0272389</td><td>2.73587e-05</td><td>1.29183</td><td>2.59461e-07</td><td>0.00217116</td><td>0.107513</td><td>0.000201149</td><td>0.000367790</td></tr>\n",
       "</tbody>\n",
       "</table>\n"
      ],
      "text/latex": [
       "A data.frame: 12 × 159\n",
       "\\begin{tabular}{lllllllllllllllllllll}\n",
       " New\\_ID & latitude & longitude & state & year & Toxicity & Pop & Acetaldehyde & Acetonitrile & Acetophenone & ⋯ & p.Cresol & Dichlorobenzene..mixed.isomers. & Dioxane & Hydroquinone & Nitrapyrin & Pendimethalin & Picric.acid & X2.4.6.Trichlorophenol & Vinylidene.chloride..1.1.dichloroethylene. & Pentachlorobenzene\\\\\n",
       " <int> & <dbl> & <dbl> & <chr> & <dbl> & <dbl> & <dbl> & <dbl> & <dbl> & <dbl> & ⋯ & <dbl> & <dbl> & <dbl> & <dbl> & <dbl> & <dbl> & <dbl> & <dbl> & <dbl> & <dbl>\\\\\n",
       "\\hline\n",
       "\t  1 & 41.48654 & -71.30857 & ri & 2002 &   448.2835 &  287.116 & 13.1753850 &          NA &           NA & ⋯ &          NA &         NA &        NA &          NA &      NA &          NA &         NA &       NA &          NA &          NA\\\\\n",
       "\t  2 & 41.48654 & -71.30857 & ri & 2003 &  1681.4634 &  282.673 & 12.7585310 &          NA &           NA & ⋯ &          NA &         NA &        NA &          NA &      NA &          NA &         NA &       NA &          NA &          NA\\\\\n",
       "\t  3 & 41.81203 & -71.41464 & ri & 2002 &  6203.0493 & 4821.650 &  4.5731921 & 0.032861600 & 2.185780e-02 & ⋯ &          NA &         NA &        NA &          NA &      NA &          NA &         NA &       NA &          NA &          NA\\\\\n",
       "\t  4 & 41.81203 & -71.41464 & ri & 2003 &  3624.8945 & 4788.800 &  4.4434179 & 0.014451858 & 2.418690e-02 & ⋯ &          NA &         NA &        NA &          NA &      NA &          NA &         NA &       NA &          NA &          NA\\\\\n",
       "\t  5 & 41.85140 & -71.40476 & ri & 2002 &  3478.6836 & 2696.490 &  3.8199463 & 0.034903350 & 4.407040e-02 & ⋯ &          NA &         NA &        NA &          NA &      NA &          NA &         NA &       NA &          NA &          NA\\\\\n",
       "\t  6 & 41.85140 & -71.40476 & ri & 2003 &  2280.4382 & 2718.270 &  3.7122275 & 0.015477429 & 4.876640e-02 & ⋯ &          NA &         NA &        NA &          NA &      NA &          NA &         NA &       NA &          NA &          NA\\\\\n",
       "\t  7 & 39.72989 & -75.56450 & de & 2002 & 19344.2975 & 1667.700 &  0.0664879 & 0.014608788 & 9.536654e-05 & ⋯ &          NA &         NA &        NA &          NA &      NA &          NA &         NA &       NA &          NA &          NA\\\\\n",
       "\t  8 & 39.72989 & -75.56450 & de & 2003 & 15297.1513 & 1648.020 &         NA & 0.058093673 & 8.014358e-05 & ⋯ & 1.97086e-05 & 0.00209470 & 0.0501374 & 5.82889e-05 & 2.31850 & 4.99329e-07 & 0.00389732 & 0.193211 & 0.000370246 & 0.000689127\\\\\n",
       "\t  9 & 39.73793 & -75.58988 & de & 2002 & 20792.4774 & 1295.930 &  0.0472599 & 0.012864160 & 9.504446e-05 & ⋯ &          NA &         NA &        NA &          NA &      NA &          NA &         NA &       NA &          NA &          NA\\\\\n",
       "\t 10 & 39.73793 & -75.58988 & de & 2003 & 16028.1318 & 1299.580 &         NA & 0.044517150 & 7.993891e-05 & ⋯ & 1.35855e-05 & 0.00151293 & 0.0358201 & 3.77766e-05 & 1.67530 & 3.49659e-07 & 0.00281612 & 0.139533 & 0.000264518 & 0.000479025\\\\\n",
       "\t 11 & 39.74178 & -75.63618 & de & 2002 & 19829.8122 &  624.536 &  0.0357069 & 0.008624243 & 8.356429e-05 & ⋯ &          NA &         NA &        NA &          NA &      NA &          NA &         NA &       NA &          NA &          NA\\\\\n",
       "\t 12 & 39.74178 & -75.63618 & de & 2003 & 15524.7662 &  620.483 &         NA & 0.032697829 & 7.028488e-05 & ⋯ & 9.88875e-06 & 0.00116613 & 0.0272389 & 2.73587e-05 & 1.29183 & 2.59461e-07 & 0.00217116 & 0.107513 & 0.000201149 & 0.000367790\\\\\n",
       "\\end{tabular}\n"
      ],
      "text/markdown": [
       "\n",
       "A data.frame: 12 × 159\n",
       "\n",
       "| New_ID &lt;int&gt; | latitude &lt;dbl&gt; | longitude &lt;dbl&gt; | state &lt;chr&gt; | year &lt;dbl&gt; | Toxicity &lt;dbl&gt; | Pop &lt;dbl&gt; | Acetaldehyde &lt;dbl&gt; | Acetonitrile &lt;dbl&gt; | Acetophenone &lt;dbl&gt; | ⋯ ⋯ | p.Cresol &lt;dbl&gt; | Dichlorobenzene..mixed.isomers. &lt;dbl&gt; | Dioxane &lt;dbl&gt; | Hydroquinone &lt;dbl&gt; | Nitrapyrin &lt;dbl&gt; | Pendimethalin &lt;dbl&gt; | Picric.acid &lt;dbl&gt; | X2.4.6.Trichlorophenol &lt;dbl&gt; | Vinylidene.chloride..1.1.dichloroethylene. &lt;dbl&gt; | Pentachlorobenzene &lt;dbl&gt; |\n",
       "|---|---|---|---|---|---|---|---|---|---|---|---|---|---|---|---|---|---|---|---|---|\n",
       "|  1 | 41.48654 | -71.30857 | ri | 2002 |   448.2835 |  287.116 | 13.1753850 |          NA |           NA | ⋯ |          NA |         NA |        NA |          NA |      NA |          NA |         NA |       NA |          NA |          NA |\n",
       "|  2 | 41.48654 | -71.30857 | ri | 2003 |  1681.4634 |  282.673 | 12.7585310 |          NA |           NA | ⋯ |          NA |         NA |        NA |          NA |      NA |          NA |         NA |       NA |          NA |          NA |\n",
       "|  3 | 41.81203 | -71.41464 | ri | 2002 |  6203.0493 | 4821.650 |  4.5731921 | 0.032861600 | 2.185780e-02 | ⋯ |          NA |         NA |        NA |          NA |      NA |          NA |         NA |       NA |          NA |          NA |\n",
       "|  4 | 41.81203 | -71.41464 | ri | 2003 |  3624.8945 | 4788.800 |  4.4434179 | 0.014451858 | 2.418690e-02 | ⋯ |          NA |         NA |        NA |          NA |      NA |          NA |         NA |       NA |          NA |          NA |\n",
       "|  5 | 41.85140 | -71.40476 | ri | 2002 |  3478.6836 | 2696.490 |  3.8199463 | 0.034903350 | 4.407040e-02 | ⋯ |          NA |         NA |        NA |          NA |      NA |          NA |         NA |       NA |          NA |          NA |\n",
       "|  6 | 41.85140 | -71.40476 | ri | 2003 |  2280.4382 | 2718.270 |  3.7122275 | 0.015477429 | 4.876640e-02 | ⋯ |          NA |         NA |        NA |          NA |      NA |          NA |         NA |       NA |          NA |          NA |\n",
       "|  7 | 39.72989 | -75.56450 | de | 2002 | 19344.2975 | 1667.700 |  0.0664879 | 0.014608788 | 9.536654e-05 | ⋯ |          NA |         NA |        NA |          NA |      NA |          NA |         NA |       NA |          NA |          NA |\n",
       "|  8 | 39.72989 | -75.56450 | de | 2003 | 15297.1513 | 1648.020 |         NA | 0.058093673 | 8.014358e-05 | ⋯ | 1.97086e-05 | 0.00209470 | 0.0501374 | 5.82889e-05 | 2.31850 | 4.99329e-07 | 0.00389732 | 0.193211 | 0.000370246 | 0.000689127 |\n",
       "|  9 | 39.73793 | -75.58988 | de | 2002 | 20792.4774 | 1295.930 |  0.0472599 | 0.012864160 | 9.504446e-05 | ⋯ |          NA |         NA |        NA |          NA |      NA |          NA |         NA |       NA |          NA |          NA |\n",
       "| 10 | 39.73793 | -75.58988 | de | 2003 | 16028.1318 | 1299.580 |         NA | 0.044517150 | 7.993891e-05 | ⋯ | 1.35855e-05 | 0.00151293 | 0.0358201 | 3.77766e-05 | 1.67530 | 3.49659e-07 | 0.00281612 | 0.139533 | 0.000264518 | 0.000479025 |\n",
       "| 11 | 39.74178 | -75.63618 | de | 2002 | 19829.8122 |  624.536 |  0.0357069 | 0.008624243 | 8.356429e-05 | ⋯ |          NA |         NA |        NA |          NA |      NA |          NA |         NA |       NA |          NA |          NA |\n",
       "| 12 | 39.74178 | -75.63618 | de | 2003 | 15524.7662 |  620.483 |         NA | 0.032697829 | 7.028488e-05 | ⋯ | 9.88875e-06 | 0.00116613 | 0.0272389 | 2.73587e-05 | 1.29183 | 2.59461e-07 | 0.00217116 | 0.107513 | 0.000201149 | 0.000367790 |\n",
       "\n"
      ],
      "text/plain": [
       "   New_ID latitude longitude state year Toxicity   Pop      Acetaldehyde\n",
       "1   1     41.48654 -71.30857 ri    2002   448.2835  287.116 13.1753850  \n",
       "2   2     41.48654 -71.30857 ri    2003  1681.4634  282.673 12.7585310  \n",
       "3   3     41.81203 -71.41464 ri    2002  6203.0493 4821.650  4.5731921  \n",
       "4   4     41.81203 -71.41464 ri    2003  3624.8945 4788.800  4.4434179  \n",
       "5   5     41.85140 -71.40476 ri    2002  3478.6836 2696.490  3.8199463  \n",
       "6   6     41.85140 -71.40476 ri    2003  2280.4382 2718.270  3.7122275  \n",
       "7   7     39.72989 -75.56450 de    2002 19344.2975 1667.700  0.0664879  \n",
       "8   8     39.72989 -75.56450 de    2003 15297.1513 1648.020         NA  \n",
       "9   9     39.73793 -75.58988 de    2002 20792.4774 1295.930  0.0472599  \n",
       "10 10     39.73793 -75.58988 de    2003 16028.1318 1299.580         NA  \n",
       "11 11     39.74178 -75.63618 de    2002 19829.8122  624.536  0.0357069  \n",
       "12 12     39.74178 -75.63618 de    2003 15524.7662  620.483         NA  \n",
       "   Acetonitrile Acetophenone ⋯ p.Cresol    Dichlorobenzene..mixed.isomers.\n",
       "1           NA            NA ⋯          NA         NA                     \n",
       "2           NA            NA ⋯          NA         NA                     \n",
       "3  0.032861600  2.185780e-02 ⋯          NA         NA                     \n",
       "4  0.014451858  2.418690e-02 ⋯          NA         NA                     \n",
       "5  0.034903350  4.407040e-02 ⋯          NA         NA                     \n",
       "6  0.015477429  4.876640e-02 ⋯          NA         NA                     \n",
       "7  0.014608788  9.536654e-05 ⋯          NA         NA                     \n",
       "8  0.058093673  8.014358e-05 ⋯ 1.97086e-05 0.00209470                     \n",
       "9  0.012864160  9.504446e-05 ⋯          NA         NA                     \n",
       "10 0.044517150  7.993891e-05 ⋯ 1.35855e-05 0.00151293                     \n",
       "11 0.008624243  8.356429e-05 ⋯          NA         NA                     \n",
       "12 0.032697829  7.028488e-05 ⋯ 9.88875e-06 0.00116613                     \n",
       "   Dioxane   Hydroquinone Nitrapyrin Pendimethalin Picric.acid\n",
       "1         NA          NA       NA             NA           NA \n",
       "2         NA          NA       NA             NA           NA \n",
       "3         NA          NA       NA             NA           NA \n",
       "4         NA          NA       NA             NA           NA \n",
       "5         NA          NA       NA             NA           NA \n",
       "6         NA          NA       NA             NA           NA \n",
       "7         NA          NA       NA             NA           NA \n",
       "8  0.0501374 5.82889e-05  2.31850    4.99329e-07   0.00389732 \n",
       "9         NA          NA       NA             NA           NA \n",
       "10 0.0358201 3.77766e-05  1.67530    3.49659e-07   0.00281612 \n",
       "11        NA          NA       NA             NA           NA \n",
       "12 0.0272389 2.73587e-05  1.29183    2.59461e-07   0.00217116 \n",
       "   X2.4.6.Trichlorophenol Vinylidene.chloride..1.1.dichloroethylene.\n",
       "1        NA                        NA                               \n",
       "2        NA                        NA                               \n",
       "3        NA                        NA                               \n",
       "4        NA                        NA                               \n",
       "5        NA                        NA                               \n",
       "6        NA                        NA                               \n",
       "7        NA                        NA                               \n",
       "8  0.193211               0.000370246                               \n",
       "9        NA                        NA                               \n",
       "10 0.139533               0.000264518                               \n",
       "11       NA                        NA                               \n",
       "12 0.107513               0.000201149                               \n",
       "   Pentachlorobenzene\n",
       "1           NA       \n",
       "2           NA       \n",
       "3           NA       \n",
       "4           NA       \n",
       "5           NA       \n",
       "6           NA       \n",
       "7           NA       \n",
       "8  0.000689127       \n",
       "9           NA       \n",
       "10 0.000479025       \n",
       "11          NA       \n",
       "12 0.000367790       "
      ]
     },
     "metadata": {},
     "output_type": "display_data"
    }
   ],
   "source": [
    "spdf <- appendRSEI(sp_df,state=\"state\",year=\"year\",x_name=\"longitude\",y_name=\"latitude\")\n",
    "spdf@data"
   ]
  },
  {
   "cell_type": "markdown",
   "metadata": {},
   "source": [
    "### Projections"
   ]
  },
  {
   "cell_type": "markdown",
   "metadata": {},
   "source": [
    "The function assumes that points are passed in as longitude/latitude coordinates. However, the points can enter in any projection if the proj4 projection string is passed to the `projection` parameter. Below is an example using a data frame containing points in the Universal Transverse Mercator projection."
   ]
  },
  {
   "cell_type": "code",
   "execution_count": 17,
   "metadata": {},
   "outputs": [
    {
     "data": {
      "text/html": [
       "<table>\n",
       "<caption>A data.frame: 4 × 4</caption>\n",
       "<thead>\n",
       "\t<tr><th scope=col>x</th><th scope=col>y</th><th scope=col>state</th><th scope=col>year</th></tr>\n",
       "\t<tr><th scope=col>&lt;dbl&gt;</th><th scope=col>&lt;dbl&gt;</th><th scope=col>&lt;chr&gt;</th><th scope=col>&lt;dbl&gt;</th></tr>\n",
       "</thead>\n",
       "<tbody>\n",
       "\t<tr><td>307274.07</td><td>4595343</td><td>ri</td><td>2002</td></tr>\n",
       "\t<tr><td>299431.04</td><td>4631725</td><td>ri</td><td>2002</td></tr>\n",
       "\t<tr><td>-62771.74</td><td>4418434</td><td>de</td><td>2002</td></tr>\n",
       "\t<tr><td>-68823.39</td><td>4420210</td><td>de</td><td>2002</td></tr>\n",
       "</tbody>\n",
       "</table>\n"
      ],
      "text/latex": [
       "A data.frame: 4 × 4\n",
       "\\begin{tabular}{llll}\n",
       " x & y & state & year\\\\\n",
       " <dbl> & <dbl> & <chr> & <dbl>\\\\\n",
       "\\hline\n",
       "\t 307274.07 & 4595343 & ri & 2002\\\\\n",
       "\t 299431.04 & 4631725 & ri & 2002\\\\\n",
       "\t -62771.74 & 4418434 & de & 2002\\\\\n",
       "\t -68823.39 & 4420210 & de & 2002\\\\\n",
       "\\end{tabular}\n"
      ],
      "text/markdown": [
       "\n",
       "A data.frame: 4 × 4\n",
       "\n",
       "| x &lt;dbl&gt; | y &lt;dbl&gt; | state &lt;chr&gt; | year &lt;dbl&gt; |\n",
       "|---|---|---|---|\n",
       "| 307274.07 | 4595343 | ri | 2002 |\n",
       "| 299431.04 | 4631725 | ri | 2002 |\n",
       "| -62771.74 | 4418434 | de | 2002 |\n",
       "| -68823.39 | 4420210 | de | 2002 |\n",
       "\n"
      ],
      "text/plain": [
       "  x         y       state year\n",
       "1 307274.07 4595343 ri    2002\n",
       "2 299431.04 4631725 ri    2002\n",
       "3 -62771.74 4418434 de    2002\n",
       "4 -68823.39 4420210 de    2002"
      ]
     },
     "metadata": {},
     "output_type": "display_data"
    }
   ],
   "source": [
    "sp_df <- data.frame()\n",
    "sp_df <- data.frame(rbind(\n",
    "c(307274.07,4595343),\n",
    "c(299431.04,4631725),\n",
    "c(-62771.74 ,4418434),\n",
    "c(-68823.39,4420210)))\n",
    "colnames(sp_df)<-c(\"x\",\"y\")\n",
    "sp_df$state<-c(\"ri\",\"ri\",\"de\",\"de\")\n",
    "sp_df$year<-c(2002,2002,2002,2002)\n",
    "sp_df"
   ]
  },
  {
   "cell_type": "code",
   "execution_count": 18,
   "metadata": {},
   "outputs": [
    {
     "data": {
      "text/html": [
       "<table>\n",
       "<caption>A data.frame: 4 × 147</caption>\n",
       "<thead>\n",
       "\t<tr><th scope=col>New_ID</th><th scope=col>x</th><th scope=col>y</th><th scope=col>state</th><th scope=col>year</th><th scope=col>Toxicity</th><th scope=col>Pop</th><th scope=col>Acetaldehyde</th><th scope=col>Acetonitrile</th><th scope=col>Acetophenone</th><th scope=col>⋯</th><th scope=col>Propylene.oxide</th><th scope=col>Sodium.nitrite</th><th scope=col>Titanium.tetrachloride</th><th scope=col>Toluenediisocyanate</th><th scope=col>o.Toluidine</th><th scope=col>X1.1.1.Trichloroethane</th><th scope=col>X2.4.5.Trichlorophenol</th><th scope=col>Urethane..Ethyl.carbamate.</th><th scope=col>Vinyl.chloride</th><th scope=col>p.Chloroaniline</th></tr>\n",
       "\t<tr><th scope=col>&lt;int&gt;</th><th scope=col>&lt;dbl&gt;</th><th scope=col>&lt;dbl&gt;</th><th scope=col>&lt;chr&gt;</th><th scope=col>&lt;dbl&gt;</th><th scope=col>&lt;dbl&gt;</th><th scope=col>&lt;dbl&gt;</th><th scope=col>&lt;dbl&gt;</th><th scope=col>&lt;dbl&gt;</th><th scope=col>&lt;dbl&gt;</th><th scope=col>⋯</th><th scope=col>&lt;dbl&gt;</th><th scope=col>&lt;dbl&gt;</th><th scope=col>&lt;dbl&gt;</th><th scope=col>&lt;dbl&gt;</th><th scope=col>&lt;dbl&gt;</th><th scope=col>&lt;dbl&gt;</th><th scope=col>&lt;dbl&gt;</th><th scope=col>&lt;dbl&gt;</th><th scope=col>&lt;dbl&gt;</th><th scope=col>&lt;dbl&gt;</th></tr>\n",
       "</thead>\n",
       "<tbody>\n",
       "\t<tr><td>1</td><td>307274.07</td><td>4595343</td><td>ri</td><td>2002</td><td>  448.2835</td><td> 287.116</td><td>13.1753850</td><td>         NA</td><td>          NA</td><td>⋯</td><td>       NA</td><td>         NA</td><td>NA</td><td>      NA</td><td>NA</td><td>          NA</td><td>         NA</td><td>      NA</td><td>      NA</td><td>      NA</td></tr>\n",
       "\t<tr><td>2</td><td>299431.04</td><td>4631725</td><td>ri</td><td>2002</td><td> 6203.0493</td><td>4821.650</td><td> 4.5731921</td><td>0.032861600</td><td>2.185780e-02</td><td>⋯</td><td>       NA</td><td>         NA</td><td>NA</td><td>      NA</td><td>NA</td><td>          NA</td><td>         NA</td><td>      NA</td><td>      NA</td><td>      NA</td></tr>\n",
       "\t<tr><td>3</td><td>-62771.74</td><td>4418434</td><td>de</td><td>2002</td><td>19344.2975</td><td>1667.700</td><td> 0.0664879</td><td>0.014608788</td><td>9.536654e-05</td><td>⋯</td><td>11.967865</td><td>0.005408335</td><td> 0</td><td>6.503059</td><td>NA</td><td>1.772213e-05</td><td>0.000382529</td><td>3.917075</td><td>739.9173</td><td>3.059610</td></tr>\n",
       "\t<tr><td>4</td><td>-68823.39</td><td>4420210</td><td>de</td><td>2002</td><td>19829.8122</td><td> 624.536</td><td> 0.0357069</td><td>0.008624243</td><td>8.356429e-05</td><td>⋯</td><td> 5.315509</td><td>0.005806154</td><td> 0</td><td>6.186736</td><td>NA</td><td>9.182270e-06</td><td>0.000212115</td><td>1.937429</td><td>699.6137</td><td>0.806645</td></tr>\n",
       "</tbody>\n",
       "</table>\n"
      ],
      "text/latex": [
       "A data.frame: 4 × 147\n",
       "\\begin{tabular}{lllllllllllllllllllll}\n",
       " New\\_ID & x & y & state & year & Toxicity & Pop & Acetaldehyde & Acetonitrile & Acetophenone & ⋯ & Propylene.oxide & Sodium.nitrite & Titanium.tetrachloride & Toluenediisocyanate & o.Toluidine & X1.1.1.Trichloroethane & X2.4.5.Trichlorophenol & Urethane..Ethyl.carbamate. & Vinyl.chloride & p.Chloroaniline\\\\\n",
       " <int> & <dbl> & <dbl> & <chr> & <dbl> & <dbl> & <dbl> & <dbl> & <dbl> & <dbl> & ⋯ & <dbl> & <dbl> & <dbl> & <dbl> & <dbl> & <dbl> & <dbl> & <dbl> & <dbl> & <dbl>\\\\\n",
       "\\hline\n",
       "\t 1 & 307274.07 & 4595343 & ri & 2002 &   448.2835 &  287.116 & 13.1753850 &          NA &           NA & ⋯ &        NA &          NA & NA &       NA & NA &           NA &          NA &       NA &       NA &       NA\\\\\n",
       "\t 2 & 299431.04 & 4631725 & ri & 2002 &  6203.0493 & 4821.650 &  4.5731921 & 0.032861600 & 2.185780e-02 & ⋯ &        NA &          NA & NA &       NA & NA &           NA &          NA &       NA &       NA &       NA\\\\\n",
       "\t 3 & -62771.74 & 4418434 & de & 2002 & 19344.2975 & 1667.700 &  0.0664879 & 0.014608788 & 9.536654e-05 & ⋯ & 11.967865 & 0.005408335 &  0 & 6.503059 & NA & 1.772213e-05 & 0.000382529 & 3.917075 & 739.9173 & 3.059610\\\\\n",
       "\t 4 & -68823.39 & 4420210 & de & 2002 & 19829.8122 &  624.536 &  0.0357069 & 0.008624243 & 8.356429e-05 & ⋯ &  5.315509 & 0.005806154 &  0 & 6.186736 & NA & 9.182270e-06 & 0.000212115 & 1.937429 & 699.6137 & 0.806645\\\\\n",
       "\\end{tabular}\n"
      ],
      "text/markdown": [
       "\n",
       "A data.frame: 4 × 147\n",
       "\n",
       "| New_ID &lt;int&gt; | x &lt;dbl&gt; | y &lt;dbl&gt; | state &lt;chr&gt; | year &lt;dbl&gt; | Toxicity &lt;dbl&gt; | Pop &lt;dbl&gt; | Acetaldehyde &lt;dbl&gt; | Acetonitrile &lt;dbl&gt; | Acetophenone &lt;dbl&gt; | ⋯ ⋯ | Propylene.oxide &lt;dbl&gt; | Sodium.nitrite &lt;dbl&gt; | Titanium.tetrachloride &lt;dbl&gt; | Toluenediisocyanate &lt;dbl&gt; | o.Toluidine &lt;dbl&gt; | X1.1.1.Trichloroethane &lt;dbl&gt; | X2.4.5.Trichlorophenol &lt;dbl&gt; | Urethane..Ethyl.carbamate. &lt;dbl&gt; | Vinyl.chloride &lt;dbl&gt; | p.Chloroaniline &lt;dbl&gt; |\n",
       "|---|---|---|---|---|---|---|---|---|---|---|---|---|---|---|---|---|---|---|---|---|\n",
       "| 1 | 307274.07 | 4595343 | ri | 2002 |   448.2835 |  287.116 | 13.1753850 |          NA |           NA | ⋯ |        NA |          NA | NA |       NA | NA |           NA |          NA |       NA |       NA |       NA |\n",
       "| 2 | 299431.04 | 4631725 | ri | 2002 |  6203.0493 | 4821.650 |  4.5731921 | 0.032861600 | 2.185780e-02 | ⋯ |        NA |          NA | NA |       NA | NA |           NA |          NA |       NA |       NA |       NA |\n",
       "| 3 | -62771.74 | 4418434 | de | 2002 | 19344.2975 | 1667.700 |  0.0664879 | 0.014608788 | 9.536654e-05 | ⋯ | 11.967865 | 0.005408335 |  0 | 6.503059 | NA | 1.772213e-05 | 0.000382529 | 3.917075 | 739.9173 | 3.059610 |\n",
       "| 4 | -68823.39 | 4420210 | de | 2002 | 19829.8122 |  624.536 |  0.0357069 | 0.008624243 | 8.356429e-05 | ⋯ |  5.315509 | 0.005806154 |  0 | 6.186736 | NA | 9.182270e-06 | 0.000212115 | 1.937429 | 699.6137 | 0.806645 |\n",
       "\n"
      ],
      "text/plain": [
       "  New_ID x         y       state year Toxicity   Pop      Acetaldehyde\n",
       "1 1      307274.07 4595343 ri    2002   448.2835  287.116 13.1753850  \n",
       "2 2      299431.04 4631725 ri    2002  6203.0493 4821.650  4.5731921  \n",
       "3 3      -62771.74 4418434 de    2002 19344.2975 1667.700  0.0664879  \n",
       "4 4      -68823.39 4420210 de    2002 19829.8122  624.536  0.0357069  \n",
       "  Acetonitrile Acetophenone ⋯ Propylene.oxide Sodium.nitrite\n",
       "1          NA            NA ⋯        NA                NA   \n",
       "2 0.032861600  2.185780e-02 ⋯        NA                NA   \n",
       "3 0.014608788  9.536654e-05 ⋯ 11.967865       0.005408335   \n",
       "4 0.008624243  8.356429e-05 ⋯  5.315509       0.005806154   \n",
       "  Titanium.tetrachloride Toluenediisocyanate o.Toluidine X1.1.1.Trichloroethane\n",
       "1 NA                           NA            NA                    NA          \n",
       "2 NA                           NA            NA                    NA          \n",
       "3  0                     6.503059            NA          1.772213e-05          \n",
       "4  0                     6.186736            NA          9.182270e-06          \n",
       "  X2.4.5.Trichlorophenol Urethane..Ethyl.carbamate. Vinyl.chloride\n",
       "1          NA                  NA                         NA      \n",
       "2          NA                  NA                         NA      \n",
       "3 0.000382529            3.917075                   739.9173      \n",
       "4 0.000212115            1.937429                   699.6137      \n",
       "  p.Chloroaniline\n",
       "1       NA       \n",
       "2       NA       \n",
       "3 3.059610       \n",
       "4 0.806645       "
      ]
     },
     "metadata": {},
     "output_type": "display_data"
    }
   ],
   "source": [
    "utm_proj <- \"+proj=utm +zone=19 +datum=WGS84 +units=m +no_defs +ellps=WGS84 +towgs84=0,0,0\"\n",
    "spdf <- appendRSEI(data=sp_df,state=\"state\",year=\"year\",x_name=\"x\",y_name=\"y\",\n",
    "                   projection=utm_proj)\n",
    "spdf@data"
   ]
  },
  {
   "cell_type": "markdown",
   "metadata": {},
   "source": [
    "### Using spatial points data frame and simple features objects"
   ]
  },
  {
   "cell_type": "markdown",
   "metadata": {},
   "source": [
    "The function also supports R's major spatial data structures. We first build a `SpatialPointsDataFrame`."
   ]
  },
  {
   "cell_type": "code",
   "execution_count": 19,
   "metadata": {},
   "outputs": [],
   "source": [
    "sp_df <- SpatialPointsDataFrame(coords=sp_df[,c(\"x\",\"y\")],\n",
    "                               data=sp_df,\n",
    "                               proj4string=CRS(utm_proj))"
   ]
  },
  {
   "cell_type": "markdown",
   "metadata": {},
   "source": [
    "Now, pass the `sp` object to the function. Use of the `projection` and `x_name`/`y_name` parameters is not necesaary as these are used to construct an `sp` object from a `data.frame`"
   ]
  },
  {
   "cell_type": "code",
   "execution_count": 20,
   "metadata": {},
   "outputs": [
    {
     "data": {
      "text/html": [
       "<table>\n",
       "<caption>A data.frame: 4 × 147</caption>\n",
       "<thead>\n",
       "\t<tr><th scope=col>New_ID</th><th scope=col>x</th><th scope=col>y</th><th scope=col>state</th><th scope=col>year</th><th scope=col>Toxicity</th><th scope=col>Pop</th><th scope=col>Acetaldehyde</th><th scope=col>Acetonitrile</th><th scope=col>Acetophenone</th><th scope=col>⋯</th><th scope=col>Propylene.oxide</th><th scope=col>Sodium.nitrite</th><th scope=col>Titanium.tetrachloride</th><th scope=col>Toluenediisocyanate</th><th scope=col>o.Toluidine</th><th scope=col>X1.1.1.Trichloroethane</th><th scope=col>X2.4.5.Trichlorophenol</th><th scope=col>Urethane..Ethyl.carbamate.</th><th scope=col>Vinyl.chloride</th><th scope=col>p.Chloroaniline</th></tr>\n",
       "\t<tr><th scope=col>&lt;int&gt;</th><th scope=col>&lt;dbl&gt;</th><th scope=col>&lt;dbl&gt;</th><th scope=col>&lt;chr&gt;</th><th scope=col>&lt;dbl&gt;</th><th scope=col>&lt;dbl&gt;</th><th scope=col>&lt;dbl&gt;</th><th scope=col>&lt;dbl&gt;</th><th scope=col>&lt;dbl&gt;</th><th scope=col>&lt;dbl&gt;</th><th scope=col>⋯</th><th scope=col>&lt;dbl&gt;</th><th scope=col>&lt;dbl&gt;</th><th scope=col>&lt;dbl&gt;</th><th scope=col>&lt;dbl&gt;</th><th scope=col>&lt;dbl&gt;</th><th scope=col>&lt;dbl&gt;</th><th scope=col>&lt;dbl&gt;</th><th scope=col>&lt;dbl&gt;</th><th scope=col>&lt;dbl&gt;</th><th scope=col>&lt;dbl&gt;</th></tr>\n",
       "</thead>\n",
       "<tbody>\n",
       "\t<tr><td>1</td><td>307274.07</td><td>4595343</td><td>ri</td><td>2002</td><td>  448.2835</td><td> 287.116</td><td>13.1753850</td><td>         NA</td><td>          NA</td><td>⋯</td><td>       NA</td><td>         NA</td><td>NA</td><td>      NA</td><td>NA</td><td>          NA</td><td>         NA</td><td>      NA</td><td>      NA</td><td>      NA</td></tr>\n",
       "\t<tr><td>2</td><td>299431.04</td><td>4631725</td><td>ri</td><td>2002</td><td> 6203.0493</td><td>4821.650</td><td> 4.5731921</td><td>0.032861600</td><td>2.185780e-02</td><td>⋯</td><td>       NA</td><td>         NA</td><td>NA</td><td>      NA</td><td>NA</td><td>          NA</td><td>         NA</td><td>      NA</td><td>      NA</td><td>      NA</td></tr>\n",
       "\t<tr><td>3</td><td>-62771.74</td><td>4418434</td><td>de</td><td>2002</td><td>19344.2975</td><td>1667.700</td><td> 0.0664879</td><td>0.014608788</td><td>9.536654e-05</td><td>⋯</td><td>11.967865</td><td>0.005408335</td><td> 0</td><td>6.503059</td><td>NA</td><td>1.772213e-05</td><td>0.000382529</td><td>3.917075</td><td>739.9173</td><td>3.059610</td></tr>\n",
       "\t<tr><td>4</td><td>-68823.39</td><td>4420210</td><td>de</td><td>2002</td><td>19829.8122</td><td> 624.536</td><td> 0.0357069</td><td>0.008624243</td><td>8.356429e-05</td><td>⋯</td><td> 5.315509</td><td>0.005806154</td><td> 0</td><td>6.186736</td><td>NA</td><td>9.182270e-06</td><td>0.000212115</td><td>1.937429</td><td>699.6137</td><td>0.806645</td></tr>\n",
       "</tbody>\n",
       "</table>\n"
      ],
      "text/latex": [
       "A data.frame: 4 × 147\n",
       "\\begin{tabular}{lllllllllllllllllllll}\n",
       " New\\_ID & x & y & state & year & Toxicity & Pop & Acetaldehyde & Acetonitrile & Acetophenone & ⋯ & Propylene.oxide & Sodium.nitrite & Titanium.tetrachloride & Toluenediisocyanate & o.Toluidine & X1.1.1.Trichloroethane & X2.4.5.Trichlorophenol & Urethane..Ethyl.carbamate. & Vinyl.chloride & p.Chloroaniline\\\\\n",
       " <int> & <dbl> & <dbl> & <chr> & <dbl> & <dbl> & <dbl> & <dbl> & <dbl> & <dbl> & ⋯ & <dbl> & <dbl> & <dbl> & <dbl> & <dbl> & <dbl> & <dbl> & <dbl> & <dbl> & <dbl>\\\\\n",
       "\\hline\n",
       "\t 1 & 307274.07 & 4595343 & ri & 2002 &   448.2835 &  287.116 & 13.1753850 &          NA &           NA & ⋯ &        NA &          NA & NA &       NA & NA &           NA &          NA &       NA &       NA &       NA\\\\\n",
       "\t 2 & 299431.04 & 4631725 & ri & 2002 &  6203.0493 & 4821.650 &  4.5731921 & 0.032861600 & 2.185780e-02 & ⋯ &        NA &          NA & NA &       NA & NA &           NA &          NA &       NA &       NA &       NA\\\\\n",
       "\t 3 & -62771.74 & 4418434 & de & 2002 & 19344.2975 & 1667.700 &  0.0664879 & 0.014608788 & 9.536654e-05 & ⋯ & 11.967865 & 0.005408335 &  0 & 6.503059 & NA & 1.772213e-05 & 0.000382529 & 3.917075 & 739.9173 & 3.059610\\\\\n",
       "\t 4 & -68823.39 & 4420210 & de & 2002 & 19829.8122 &  624.536 &  0.0357069 & 0.008624243 & 8.356429e-05 & ⋯ &  5.315509 & 0.005806154 &  0 & 6.186736 & NA & 9.182270e-06 & 0.000212115 & 1.937429 & 699.6137 & 0.806645\\\\\n",
       "\\end{tabular}\n"
      ],
      "text/markdown": [
       "\n",
       "A data.frame: 4 × 147\n",
       "\n",
       "| New_ID &lt;int&gt; | x &lt;dbl&gt; | y &lt;dbl&gt; | state &lt;chr&gt; | year &lt;dbl&gt; | Toxicity &lt;dbl&gt; | Pop &lt;dbl&gt; | Acetaldehyde &lt;dbl&gt; | Acetonitrile &lt;dbl&gt; | Acetophenone &lt;dbl&gt; | ⋯ ⋯ | Propylene.oxide &lt;dbl&gt; | Sodium.nitrite &lt;dbl&gt; | Titanium.tetrachloride &lt;dbl&gt; | Toluenediisocyanate &lt;dbl&gt; | o.Toluidine &lt;dbl&gt; | X1.1.1.Trichloroethane &lt;dbl&gt; | X2.4.5.Trichlorophenol &lt;dbl&gt; | Urethane..Ethyl.carbamate. &lt;dbl&gt; | Vinyl.chloride &lt;dbl&gt; | p.Chloroaniline &lt;dbl&gt; |\n",
       "|---|---|---|---|---|---|---|---|---|---|---|---|---|---|---|---|---|---|---|---|---|\n",
       "| 1 | 307274.07 | 4595343 | ri | 2002 |   448.2835 |  287.116 | 13.1753850 |          NA |           NA | ⋯ |        NA |          NA | NA |       NA | NA |           NA |          NA |       NA |       NA |       NA |\n",
       "| 2 | 299431.04 | 4631725 | ri | 2002 |  6203.0493 | 4821.650 |  4.5731921 | 0.032861600 | 2.185780e-02 | ⋯ |        NA |          NA | NA |       NA | NA |           NA |          NA |       NA |       NA |       NA |\n",
       "| 3 | -62771.74 | 4418434 | de | 2002 | 19344.2975 | 1667.700 |  0.0664879 | 0.014608788 | 9.536654e-05 | ⋯ | 11.967865 | 0.005408335 |  0 | 6.503059 | NA | 1.772213e-05 | 0.000382529 | 3.917075 | 739.9173 | 3.059610 |\n",
       "| 4 | -68823.39 | 4420210 | de | 2002 | 19829.8122 |  624.536 |  0.0357069 | 0.008624243 | 8.356429e-05 | ⋯ |  5.315509 | 0.005806154 |  0 | 6.186736 | NA | 9.182270e-06 | 0.000212115 | 1.937429 | 699.6137 | 0.806645 |\n",
       "\n"
      ],
      "text/plain": [
       "  New_ID x         y       state year Toxicity   Pop      Acetaldehyde\n",
       "1 1      307274.07 4595343 ri    2002   448.2835  287.116 13.1753850  \n",
       "2 2      299431.04 4631725 ri    2002  6203.0493 4821.650  4.5731921  \n",
       "3 3      -62771.74 4418434 de    2002 19344.2975 1667.700  0.0664879  \n",
       "4 4      -68823.39 4420210 de    2002 19829.8122  624.536  0.0357069  \n",
       "  Acetonitrile Acetophenone ⋯ Propylene.oxide Sodium.nitrite\n",
       "1          NA            NA ⋯        NA                NA   \n",
       "2 0.032861600  2.185780e-02 ⋯        NA                NA   \n",
       "3 0.014608788  9.536654e-05 ⋯ 11.967865       0.005408335   \n",
       "4 0.008624243  8.356429e-05 ⋯  5.315509       0.005806154   \n",
       "  Titanium.tetrachloride Toluenediisocyanate o.Toluidine X1.1.1.Trichloroethane\n",
       "1 NA                           NA            NA                    NA          \n",
       "2 NA                           NA            NA                    NA          \n",
       "3  0                     6.503059            NA          1.772213e-05          \n",
       "4  0                     6.186736            NA          9.182270e-06          \n",
       "  X2.4.5.Trichlorophenol Urethane..Ethyl.carbamate. Vinyl.chloride\n",
       "1          NA                  NA                         NA      \n",
       "2          NA                  NA                         NA      \n",
       "3 0.000382529            3.917075                   739.9173      \n",
       "4 0.000212115            1.937429                   699.6137      \n",
       "  p.Chloroaniline\n",
       "1       NA       \n",
       "2       NA       \n",
       "3 3.059610       \n",
       "4 0.806645       "
      ]
     },
     "metadata": {},
     "output_type": "display_data"
    }
   ],
   "source": [
    "spdf <- appendRSEI(data=sp_df,state=\"state\",year=\"year\")\n",
    "spdf@data"
   ]
  },
  {
   "cell_type": "markdown",
   "metadata": {},
   "source": [
    "For simple features objects:"
   ]
  },
  {
   "cell_type": "code",
   "execution_count": 21,
   "metadata": {},
   "outputs": [
    {
     "name": "stderr",
     "output_type": "stream",
     "text": [
      "Loading required package: sf\n",
      "\n",
      "Linking to GEOS 3.6.1, GDAL 2.1.3, PROJ 4.9.3\n",
      "\n"
     ]
    },
    {
     "data": {
      "text/html": [
       "<table>\n",
       "<caption>A data.frame: 4 × 147</caption>\n",
       "<thead>\n",
       "\t<tr><th scope=col>New_ID</th><th scope=col>x</th><th scope=col>y</th><th scope=col>state</th><th scope=col>year</th><th scope=col>Toxicity</th><th scope=col>Pop</th><th scope=col>Acetaldehyde</th><th scope=col>Acetonitrile</th><th scope=col>Acetophenone</th><th scope=col>⋯</th><th scope=col>Propylene.oxide</th><th scope=col>Sodium.nitrite</th><th scope=col>Titanium.tetrachloride</th><th scope=col>Toluenediisocyanate</th><th scope=col>o.Toluidine</th><th scope=col>X1.1.1.Trichloroethane</th><th scope=col>X2.4.5.Trichlorophenol</th><th scope=col>Urethane..Ethyl.carbamate.</th><th scope=col>Vinyl.chloride</th><th scope=col>p.Chloroaniline</th></tr>\n",
       "\t<tr><th scope=col>&lt;int&gt;</th><th scope=col>&lt;dbl&gt;</th><th scope=col>&lt;dbl&gt;</th><th scope=col>&lt;chr&gt;</th><th scope=col>&lt;dbl&gt;</th><th scope=col>&lt;dbl&gt;</th><th scope=col>&lt;dbl&gt;</th><th scope=col>&lt;dbl&gt;</th><th scope=col>&lt;dbl&gt;</th><th scope=col>&lt;dbl&gt;</th><th scope=col>⋯</th><th scope=col>&lt;dbl&gt;</th><th scope=col>&lt;dbl&gt;</th><th scope=col>&lt;dbl&gt;</th><th scope=col>&lt;dbl&gt;</th><th scope=col>&lt;dbl&gt;</th><th scope=col>&lt;dbl&gt;</th><th scope=col>&lt;dbl&gt;</th><th scope=col>&lt;dbl&gt;</th><th scope=col>&lt;dbl&gt;</th><th scope=col>&lt;dbl&gt;</th></tr>\n",
       "</thead>\n",
       "<tbody>\n",
       "\t<tr><td>1</td><td>307274.07</td><td>4595343</td><td>ri</td><td>2002</td><td>  448.2835</td><td> 287.116</td><td>13.1753850</td><td>         NA</td><td>          NA</td><td>⋯</td><td>       NA</td><td>         NA</td><td>NA</td><td>      NA</td><td>NA</td><td>          NA</td><td>         NA</td><td>      NA</td><td>      NA</td><td>      NA</td></tr>\n",
       "\t<tr><td>2</td><td>299431.04</td><td>4631725</td><td>ri</td><td>2002</td><td> 6203.0493</td><td>4821.650</td><td> 4.5731921</td><td>0.032861600</td><td>2.185780e-02</td><td>⋯</td><td>       NA</td><td>         NA</td><td>NA</td><td>      NA</td><td>NA</td><td>          NA</td><td>         NA</td><td>      NA</td><td>      NA</td><td>      NA</td></tr>\n",
       "\t<tr><td>3</td><td>-62771.74</td><td>4418434</td><td>de</td><td>2002</td><td>19344.2975</td><td>1667.700</td><td> 0.0664879</td><td>0.014608788</td><td>9.536654e-05</td><td>⋯</td><td>11.967865</td><td>0.005408335</td><td> 0</td><td>6.503059</td><td>NA</td><td>1.772213e-05</td><td>0.000382529</td><td>3.917075</td><td>739.9173</td><td>3.059610</td></tr>\n",
       "\t<tr><td>4</td><td>-68823.39</td><td>4420210</td><td>de</td><td>2002</td><td>19829.8122</td><td> 624.536</td><td> 0.0357069</td><td>0.008624243</td><td>8.356429e-05</td><td>⋯</td><td> 5.315509</td><td>0.005806154</td><td> 0</td><td>6.186736</td><td>NA</td><td>9.182270e-06</td><td>0.000212115</td><td>1.937429</td><td>699.6137</td><td>0.806645</td></tr>\n",
       "</tbody>\n",
       "</table>\n"
      ],
      "text/latex": [
       "A data.frame: 4 × 147\n",
       "\\begin{tabular}{lllllllllllllllllllll}\n",
       " New\\_ID & x & y & state & year & Toxicity & Pop & Acetaldehyde & Acetonitrile & Acetophenone & ⋯ & Propylene.oxide & Sodium.nitrite & Titanium.tetrachloride & Toluenediisocyanate & o.Toluidine & X1.1.1.Trichloroethane & X2.4.5.Trichlorophenol & Urethane..Ethyl.carbamate. & Vinyl.chloride & p.Chloroaniline\\\\\n",
       " <int> & <dbl> & <dbl> & <chr> & <dbl> & <dbl> & <dbl> & <dbl> & <dbl> & <dbl> & ⋯ & <dbl> & <dbl> & <dbl> & <dbl> & <dbl> & <dbl> & <dbl> & <dbl> & <dbl> & <dbl>\\\\\n",
       "\\hline\n",
       "\t 1 & 307274.07 & 4595343 & ri & 2002 &   448.2835 &  287.116 & 13.1753850 &          NA &           NA & ⋯ &        NA &          NA & NA &       NA & NA &           NA &          NA &       NA &       NA &       NA\\\\\n",
       "\t 2 & 299431.04 & 4631725 & ri & 2002 &  6203.0493 & 4821.650 &  4.5731921 & 0.032861600 & 2.185780e-02 & ⋯ &        NA &          NA & NA &       NA & NA &           NA &          NA &       NA &       NA &       NA\\\\\n",
       "\t 3 & -62771.74 & 4418434 & de & 2002 & 19344.2975 & 1667.700 &  0.0664879 & 0.014608788 & 9.536654e-05 & ⋯ & 11.967865 & 0.005408335 &  0 & 6.503059 & NA & 1.772213e-05 & 0.000382529 & 3.917075 & 739.9173 & 3.059610\\\\\n",
       "\t 4 & -68823.39 & 4420210 & de & 2002 & 19829.8122 &  624.536 &  0.0357069 & 0.008624243 & 8.356429e-05 & ⋯ &  5.315509 & 0.005806154 &  0 & 6.186736 & NA & 9.182270e-06 & 0.000212115 & 1.937429 & 699.6137 & 0.806645\\\\\n",
       "\\end{tabular}\n"
      ],
      "text/markdown": [
       "\n",
       "A data.frame: 4 × 147\n",
       "\n",
       "| New_ID &lt;int&gt; | x &lt;dbl&gt; | y &lt;dbl&gt; | state &lt;chr&gt; | year &lt;dbl&gt; | Toxicity &lt;dbl&gt; | Pop &lt;dbl&gt; | Acetaldehyde &lt;dbl&gt; | Acetonitrile &lt;dbl&gt; | Acetophenone &lt;dbl&gt; | ⋯ ⋯ | Propylene.oxide &lt;dbl&gt; | Sodium.nitrite &lt;dbl&gt; | Titanium.tetrachloride &lt;dbl&gt; | Toluenediisocyanate &lt;dbl&gt; | o.Toluidine &lt;dbl&gt; | X1.1.1.Trichloroethane &lt;dbl&gt; | X2.4.5.Trichlorophenol &lt;dbl&gt; | Urethane..Ethyl.carbamate. &lt;dbl&gt; | Vinyl.chloride &lt;dbl&gt; | p.Chloroaniline &lt;dbl&gt; |\n",
       "|---|---|---|---|---|---|---|---|---|---|---|---|---|---|---|---|---|---|---|---|---|\n",
       "| 1 | 307274.07 | 4595343 | ri | 2002 |   448.2835 |  287.116 | 13.1753850 |          NA |           NA | ⋯ |        NA |          NA | NA |       NA | NA |           NA |          NA |       NA |       NA |       NA |\n",
       "| 2 | 299431.04 | 4631725 | ri | 2002 |  6203.0493 | 4821.650 |  4.5731921 | 0.032861600 | 2.185780e-02 | ⋯ |        NA |          NA | NA |       NA | NA |           NA |          NA |       NA |       NA |       NA |\n",
       "| 3 | -62771.74 | 4418434 | de | 2002 | 19344.2975 | 1667.700 |  0.0664879 | 0.014608788 | 9.536654e-05 | ⋯ | 11.967865 | 0.005408335 |  0 | 6.503059 | NA | 1.772213e-05 | 0.000382529 | 3.917075 | 739.9173 | 3.059610 |\n",
       "| 4 | -68823.39 | 4420210 | de | 2002 | 19829.8122 |  624.536 |  0.0357069 | 0.008624243 | 8.356429e-05 | ⋯ |  5.315509 | 0.005806154 |  0 | 6.186736 | NA | 9.182270e-06 | 0.000212115 | 1.937429 | 699.6137 | 0.806645 |\n",
       "\n"
      ],
      "text/plain": [
       "  New_ID x         y       state year Toxicity   Pop      Acetaldehyde\n",
       "1 1      307274.07 4595343 ri    2002   448.2835  287.116 13.1753850  \n",
       "2 2      299431.04 4631725 ri    2002  6203.0493 4821.650  4.5731921  \n",
       "3 3      -62771.74 4418434 de    2002 19344.2975 1667.700  0.0664879  \n",
       "4 4      -68823.39 4420210 de    2002 19829.8122  624.536  0.0357069  \n",
       "  Acetonitrile Acetophenone ⋯ Propylene.oxide Sodium.nitrite\n",
       "1          NA            NA ⋯        NA                NA   \n",
       "2 0.032861600  2.185780e-02 ⋯        NA                NA   \n",
       "3 0.014608788  9.536654e-05 ⋯ 11.967865       0.005408335   \n",
       "4 0.008624243  8.356429e-05 ⋯  5.315509       0.005806154   \n",
       "  Titanium.tetrachloride Toluenediisocyanate o.Toluidine X1.1.1.Trichloroethane\n",
       "1 NA                           NA            NA                    NA          \n",
       "2 NA                           NA            NA                    NA          \n",
       "3  0                     6.503059            NA          1.772213e-05          \n",
       "4  0                     6.186736            NA          9.182270e-06          \n",
       "  X2.4.5.Trichlorophenol Urethane..Ethyl.carbamate. Vinyl.chloride\n",
       "1          NA                  NA                         NA      \n",
       "2          NA                  NA                         NA      \n",
       "3 0.000382529            3.917075                   739.9173      \n",
       "4 0.000212115            1.937429                   699.6137      \n",
       "  p.Chloroaniline\n",
       "1       NA       \n",
       "2       NA       \n",
       "3 3.059610       \n",
       "4 0.806645       "
      ]
     },
     "metadata": {},
     "output_type": "display_data"
    }
   ],
   "source": [
    "require(sf)\n",
    "sf_df <- st_as_sf(sp_df,coords=c(\"x\",\"y\"),\n",
    "                  crs=utm_proj)\n",
    "spdf <- appendRSEI(data=sf_df,state=\"state\",year=\"year\")\n",
    "spdf@data"
   ]
  },
  {
   "cell_type": "markdown",
   "metadata": {},
   "source": [
    "### Importing data from a file"
   ]
  },
  {
   "cell_type": "markdown",
   "metadata": {},
   "source": [
    "It is additionally possible to load existing data from file directly into the `appendRSEI` function. To do so, pass the file location as a string as the `data` parameter."
   ]
  },
  {
   "cell_type": "markdown",
   "metadata": {},
   "source": [
    "We start with reading in CSV file. The remain syntax is similar to the earlier examples."
   ]
  },
  {
   "cell_type": "code",
   "execution_count": 22,
   "metadata": {},
   "outputs": [],
   "source": [
    "spdf <- appendRSEI(data=\"test_data/sp_df.csv\",state=\"state\",year=\"year\",\n",
    "                   x_name=\"longitude\",y_name=\"latitude\")"
   ]
  },
  {
   "cell_type": "code",
   "execution_count": 23,
   "metadata": {},
   "outputs": [
    {
     "data": {
      "text/html": [
       "<table>\n",
       "<caption>A data.frame: 12 × 159</caption>\n",
       "<thead>\n",
       "\t<tr><th scope=col>New_ID</th><th scope=col>latitude</th><th scope=col>longitude</th><th scope=col>state</th><th scope=col>year</th><th scope=col>Toxicity</th><th scope=col>Pop</th><th scope=col>Acetaldehyde</th><th scope=col>Acetonitrile</th><th scope=col>Acetophenone</th><th scope=col>⋯</th><th scope=col>p.Cresol</th><th scope=col>Dichlorobenzene..mixed.isomers.</th><th scope=col>Dioxane</th><th scope=col>Hydroquinone</th><th scope=col>Nitrapyrin</th><th scope=col>Pendimethalin</th><th scope=col>Picric.acid</th><th scope=col>X2.4.6.Trichlorophenol</th><th scope=col>Vinylidene.chloride..1.1.dichloroethylene.</th><th scope=col>Pentachlorobenzene</th></tr>\n",
       "\t<tr><th scope=col>&lt;int&gt;</th><th scope=col>&lt;dbl&gt;</th><th scope=col>&lt;dbl&gt;</th><th scope=col>&lt;fct&gt;</th><th scope=col>&lt;int&gt;</th><th scope=col>&lt;dbl&gt;</th><th scope=col>&lt;dbl&gt;</th><th scope=col>&lt;dbl&gt;</th><th scope=col>&lt;dbl&gt;</th><th scope=col>&lt;dbl&gt;</th><th scope=col>⋯</th><th scope=col>&lt;dbl&gt;</th><th scope=col>&lt;dbl&gt;</th><th scope=col>&lt;dbl&gt;</th><th scope=col>&lt;dbl&gt;</th><th scope=col>&lt;dbl&gt;</th><th scope=col>&lt;dbl&gt;</th><th scope=col>&lt;dbl&gt;</th><th scope=col>&lt;dbl&gt;</th><th scope=col>&lt;dbl&gt;</th><th scope=col>&lt;dbl&gt;</th></tr>\n",
       "</thead>\n",
       "<tbody>\n",
       "\t<tr><td> 1</td><td>41.48654</td><td>-71.30857</td><td>ri</td><td>2002</td><td>  448.2835</td><td> 287.116</td><td>13.1753850</td><td>         NA</td><td>          NA</td><td>⋯</td><td>         NA</td><td>        NA</td><td>       NA</td><td>         NA</td><td>     NA</td><td>         NA</td><td>        NA</td><td>      NA</td><td>         NA</td><td>         NA</td></tr>\n",
       "\t<tr><td> 2</td><td>41.48654</td><td>-71.30857</td><td>ri</td><td>2003</td><td> 1681.4634</td><td> 282.673</td><td>12.7585310</td><td>         NA</td><td>          NA</td><td>⋯</td><td>         NA</td><td>        NA</td><td>       NA</td><td>         NA</td><td>     NA</td><td>         NA</td><td>        NA</td><td>      NA</td><td>         NA</td><td>         NA</td></tr>\n",
       "\t<tr><td> 3</td><td>41.81203</td><td>-71.41464</td><td>ri</td><td>2002</td><td> 6203.0493</td><td>4821.650</td><td> 4.5731921</td><td>0.032861600</td><td>2.185780e-02</td><td>⋯</td><td>         NA</td><td>        NA</td><td>       NA</td><td>         NA</td><td>     NA</td><td>         NA</td><td>        NA</td><td>      NA</td><td>         NA</td><td>         NA</td></tr>\n",
       "\t<tr><td> 4</td><td>41.81203</td><td>-71.41464</td><td>ri</td><td>2003</td><td> 3624.8945</td><td>4788.800</td><td> 4.4434179</td><td>0.014451858</td><td>2.418690e-02</td><td>⋯</td><td>         NA</td><td>        NA</td><td>       NA</td><td>         NA</td><td>     NA</td><td>         NA</td><td>        NA</td><td>      NA</td><td>         NA</td><td>         NA</td></tr>\n",
       "\t<tr><td> 5</td><td>41.85140</td><td>-71.40476</td><td>ri</td><td>2002</td><td> 3478.6836</td><td>2696.490</td><td> 3.8199463</td><td>0.034903350</td><td>4.407040e-02</td><td>⋯</td><td>         NA</td><td>        NA</td><td>       NA</td><td>         NA</td><td>     NA</td><td>         NA</td><td>        NA</td><td>      NA</td><td>         NA</td><td>         NA</td></tr>\n",
       "\t<tr><td> 6</td><td>41.85140</td><td>-71.40476</td><td>ri</td><td>2003</td><td> 2280.4382</td><td>2718.270</td><td> 3.7122275</td><td>0.015477429</td><td>4.876640e-02</td><td>⋯</td><td>         NA</td><td>        NA</td><td>       NA</td><td>         NA</td><td>     NA</td><td>         NA</td><td>        NA</td><td>      NA</td><td>         NA</td><td>         NA</td></tr>\n",
       "\t<tr><td> 7</td><td>39.72989</td><td>-75.56450</td><td>de</td><td>2002</td><td>19344.2975</td><td>1667.700</td><td> 0.0664879</td><td>0.014608788</td><td>9.536654e-05</td><td>⋯</td><td>         NA</td><td>        NA</td><td>       NA</td><td>         NA</td><td>     NA</td><td>         NA</td><td>        NA</td><td>      NA</td><td>         NA</td><td>         NA</td></tr>\n",
       "\t<tr><td> 8</td><td>39.72989</td><td>-75.56450</td><td>de</td><td>2003</td><td>15297.1513</td><td>1648.020</td><td>        NA</td><td>0.058093673</td><td>8.014358e-05</td><td>⋯</td><td>1.97086e-05</td><td>0.00209470</td><td>0.0501374</td><td>5.82889e-05</td><td>2.31850</td><td>4.99329e-07</td><td>0.00389732</td><td>0.193211</td><td>0.000370246</td><td>0.000689127</td></tr>\n",
       "\t<tr><td> 9</td><td>39.73793</td><td>-75.58988</td><td>de</td><td>2002</td><td>20792.4774</td><td>1295.930</td><td> 0.0472599</td><td>0.012864160</td><td>9.504446e-05</td><td>⋯</td><td>         NA</td><td>        NA</td><td>       NA</td><td>         NA</td><td>     NA</td><td>         NA</td><td>        NA</td><td>      NA</td><td>         NA</td><td>         NA</td></tr>\n",
       "\t<tr><td>10</td><td>39.73793</td><td>-75.58988</td><td>de</td><td>2003</td><td>16028.1318</td><td>1299.580</td><td>        NA</td><td>0.044517150</td><td>7.993891e-05</td><td>⋯</td><td>1.35855e-05</td><td>0.00151293</td><td>0.0358201</td><td>3.77766e-05</td><td>1.67530</td><td>3.49659e-07</td><td>0.00281612</td><td>0.139533</td><td>0.000264518</td><td>0.000479025</td></tr>\n",
       "\t<tr><td>11</td><td>39.74178</td><td>-75.63618</td><td>de</td><td>2002</td><td>19829.8122</td><td> 624.536</td><td> 0.0357069</td><td>0.008624243</td><td>8.356429e-05</td><td>⋯</td><td>         NA</td><td>        NA</td><td>       NA</td><td>         NA</td><td>     NA</td><td>         NA</td><td>        NA</td><td>      NA</td><td>         NA</td><td>         NA</td></tr>\n",
       "\t<tr><td>12</td><td>39.74178</td><td>-75.63618</td><td>de</td><td>2003</td><td>15524.7662</td><td> 620.483</td><td>        NA</td><td>0.032697829</td><td>7.028488e-05</td><td>⋯</td><td>9.88875e-06</td><td>0.00116613</td><td>0.0272389</td><td>2.73587e-05</td><td>1.29183</td><td>2.59461e-07</td><td>0.00217116</td><td>0.107513</td><td>0.000201149</td><td>0.000367790</td></tr>\n",
       "</tbody>\n",
       "</table>\n"
      ],
      "text/latex": [
       "A data.frame: 12 × 159\n",
       "\\begin{tabular}{lllllllllllllllllllll}\n",
       " New\\_ID & latitude & longitude & state & year & Toxicity & Pop & Acetaldehyde & Acetonitrile & Acetophenone & ⋯ & p.Cresol & Dichlorobenzene..mixed.isomers. & Dioxane & Hydroquinone & Nitrapyrin & Pendimethalin & Picric.acid & X2.4.6.Trichlorophenol & Vinylidene.chloride..1.1.dichloroethylene. & Pentachlorobenzene\\\\\n",
       " <int> & <dbl> & <dbl> & <fct> & <int> & <dbl> & <dbl> & <dbl> & <dbl> & <dbl> & ⋯ & <dbl> & <dbl> & <dbl> & <dbl> & <dbl> & <dbl> & <dbl> & <dbl> & <dbl> & <dbl>\\\\\n",
       "\\hline\n",
       "\t  1 & 41.48654 & -71.30857 & ri & 2002 &   448.2835 &  287.116 & 13.1753850 &          NA &           NA & ⋯ &          NA &         NA &        NA &          NA &      NA &          NA &         NA &       NA &          NA &          NA\\\\\n",
       "\t  2 & 41.48654 & -71.30857 & ri & 2003 &  1681.4634 &  282.673 & 12.7585310 &          NA &           NA & ⋯ &          NA &         NA &        NA &          NA &      NA &          NA &         NA &       NA &          NA &          NA\\\\\n",
       "\t  3 & 41.81203 & -71.41464 & ri & 2002 &  6203.0493 & 4821.650 &  4.5731921 & 0.032861600 & 2.185780e-02 & ⋯ &          NA &         NA &        NA &          NA &      NA &          NA &         NA &       NA &          NA &          NA\\\\\n",
       "\t  4 & 41.81203 & -71.41464 & ri & 2003 &  3624.8945 & 4788.800 &  4.4434179 & 0.014451858 & 2.418690e-02 & ⋯ &          NA &         NA &        NA &          NA &      NA &          NA &         NA &       NA &          NA &          NA\\\\\n",
       "\t  5 & 41.85140 & -71.40476 & ri & 2002 &  3478.6836 & 2696.490 &  3.8199463 & 0.034903350 & 4.407040e-02 & ⋯ &          NA &         NA &        NA &          NA &      NA &          NA &         NA &       NA &          NA &          NA\\\\\n",
       "\t  6 & 41.85140 & -71.40476 & ri & 2003 &  2280.4382 & 2718.270 &  3.7122275 & 0.015477429 & 4.876640e-02 & ⋯ &          NA &         NA &        NA &          NA &      NA &          NA &         NA &       NA &          NA &          NA\\\\\n",
       "\t  7 & 39.72989 & -75.56450 & de & 2002 & 19344.2975 & 1667.700 &  0.0664879 & 0.014608788 & 9.536654e-05 & ⋯ &          NA &         NA &        NA &          NA &      NA &          NA &         NA &       NA &          NA &          NA\\\\\n",
       "\t  8 & 39.72989 & -75.56450 & de & 2003 & 15297.1513 & 1648.020 &         NA & 0.058093673 & 8.014358e-05 & ⋯ & 1.97086e-05 & 0.00209470 & 0.0501374 & 5.82889e-05 & 2.31850 & 4.99329e-07 & 0.00389732 & 0.193211 & 0.000370246 & 0.000689127\\\\\n",
       "\t  9 & 39.73793 & -75.58988 & de & 2002 & 20792.4774 & 1295.930 &  0.0472599 & 0.012864160 & 9.504446e-05 & ⋯ &          NA &         NA &        NA &          NA &      NA &          NA &         NA &       NA &          NA &          NA\\\\\n",
       "\t 10 & 39.73793 & -75.58988 & de & 2003 & 16028.1318 & 1299.580 &         NA & 0.044517150 & 7.993891e-05 & ⋯ & 1.35855e-05 & 0.00151293 & 0.0358201 & 3.77766e-05 & 1.67530 & 3.49659e-07 & 0.00281612 & 0.139533 & 0.000264518 & 0.000479025\\\\\n",
       "\t 11 & 39.74178 & -75.63618 & de & 2002 & 19829.8122 &  624.536 &  0.0357069 & 0.008624243 & 8.356429e-05 & ⋯ &          NA &         NA &        NA &          NA &      NA &          NA &         NA &       NA &          NA &          NA\\\\\n",
       "\t 12 & 39.74178 & -75.63618 & de & 2003 & 15524.7662 &  620.483 &         NA & 0.032697829 & 7.028488e-05 & ⋯ & 9.88875e-06 & 0.00116613 & 0.0272389 & 2.73587e-05 & 1.29183 & 2.59461e-07 & 0.00217116 & 0.107513 & 0.000201149 & 0.000367790\\\\\n",
       "\\end{tabular}\n"
      ],
      "text/markdown": [
       "\n",
       "A data.frame: 12 × 159\n",
       "\n",
       "| New_ID &lt;int&gt; | latitude &lt;dbl&gt; | longitude &lt;dbl&gt; | state &lt;fct&gt; | year &lt;int&gt; | Toxicity &lt;dbl&gt; | Pop &lt;dbl&gt; | Acetaldehyde &lt;dbl&gt; | Acetonitrile &lt;dbl&gt; | Acetophenone &lt;dbl&gt; | ⋯ ⋯ | p.Cresol &lt;dbl&gt; | Dichlorobenzene..mixed.isomers. &lt;dbl&gt; | Dioxane &lt;dbl&gt; | Hydroquinone &lt;dbl&gt; | Nitrapyrin &lt;dbl&gt; | Pendimethalin &lt;dbl&gt; | Picric.acid &lt;dbl&gt; | X2.4.6.Trichlorophenol &lt;dbl&gt; | Vinylidene.chloride..1.1.dichloroethylene. &lt;dbl&gt; | Pentachlorobenzene &lt;dbl&gt; |\n",
       "|---|---|---|---|---|---|---|---|---|---|---|---|---|---|---|---|---|---|---|---|---|\n",
       "|  1 | 41.48654 | -71.30857 | ri | 2002 |   448.2835 |  287.116 | 13.1753850 |          NA |           NA | ⋯ |          NA |         NA |        NA |          NA |      NA |          NA |         NA |       NA |          NA |          NA |\n",
       "|  2 | 41.48654 | -71.30857 | ri | 2003 |  1681.4634 |  282.673 | 12.7585310 |          NA |           NA | ⋯ |          NA |         NA |        NA |          NA |      NA |          NA |         NA |       NA |          NA |          NA |\n",
       "|  3 | 41.81203 | -71.41464 | ri | 2002 |  6203.0493 | 4821.650 |  4.5731921 | 0.032861600 | 2.185780e-02 | ⋯ |          NA |         NA |        NA |          NA |      NA |          NA |         NA |       NA |          NA |          NA |\n",
       "|  4 | 41.81203 | -71.41464 | ri | 2003 |  3624.8945 | 4788.800 |  4.4434179 | 0.014451858 | 2.418690e-02 | ⋯ |          NA |         NA |        NA |          NA |      NA |          NA |         NA |       NA |          NA |          NA |\n",
       "|  5 | 41.85140 | -71.40476 | ri | 2002 |  3478.6836 | 2696.490 |  3.8199463 | 0.034903350 | 4.407040e-02 | ⋯ |          NA |         NA |        NA |          NA |      NA |          NA |         NA |       NA |          NA |          NA |\n",
       "|  6 | 41.85140 | -71.40476 | ri | 2003 |  2280.4382 | 2718.270 |  3.7122275 | 0.015477429 | 4.876640e-02 | ⋯ |          NA |         NA |        NA |          NA |      NA |          NA |         NA |       NA |          NA |          NA |\n",
       "|  7 | 39.72989 | -75.56450 | de | 2002 | 19344.2975 | 1667.700 |  0.0664879 | 0.014608788 | 9.536654e-05 | ⋯ |          NA |         NA |        NA |          NA |      NA |          NA |         NA |       NA |          NA |          NA |\n",
       "|  8 | 39.72989 | -75.56450 | de | 2003 | 15297.1513 | 1648.020 |         NA | 0.058093673 | 8.014358e-05 | ⋯ | 1.97086e-05 | 0.00209470 | 0.0501374 | 5.82889e-05 | 2.31850 | 4.99329e-07 | 0.00389732 | 0.193211 | 0.000370246 | 0.000689127 |\n",
       "|  9 | 39.73793 | -75.58988 | de | 2002 | 20792.4774 | 1295.930 |  0.0472599 | 0.012864160 | 9.504446e-05 | ⋯ |          NA |         NA |        NA |          NA |      NA |          NA |         NA |       NA |          NA |          NA |\n",
       "| 10 | 39.73793 | -75.58988 | de | 2003 | 16028.1318 | 1299.580 |         NA | 0.044517150 | 7.993891e-05 | ⋯ | 1.35855e-05 | 0.00151293 | 0.0358201 | 3.77766e-05 | 1.67530 | 3.49659e-07 | 0.00281612 | 0.139533 | 0.000264518 | 0.000479025 |\n",
       "| 11 | 39.74178 | -75.63618 | de | 2002 | 19829.8122 |  624.536 |  0.0357069 | 0.008624243 | 8.356429e-05 | ⋯ |          NA |         NA |        NA |          NA |      NA |          NA |         NA |       NA |          NA |          NA |\n",
       "| 12 | 39.74178 | -75.63618 | de | 2003 | 15524.7662 |  620.483 |         NA | 0.032697829 | 7.028488e-05 | ⋯ | 9.88875e-06 | 0.00116613 | 0.0272389 | 2.73587e-05 | 1.29183 | 2.59461e-07 | 0.00217116 | 0.107513 | 0.000201149 | 0.000367790 |\n",
       "\n"
      ],
      "text/plain": [
       "   New_ID latitude longitude state year Toxicity   Pop      Acetaldehyde\n",
       "1   1     41.48654 -71.30857 ri    2002   448.2835  287.116 13.1753850  \n",
       "2   2     41.48654 -71.30857 ri    2003  1681.4634  282.673 12.7585310  \n",
       "3   3     41.81203 -71.41464 ri    2002  6203.0493 4821.650  4.5731921  \n",
       "4   4     41.81203 -71.41464 ri    2003  3624.8945 4788.800  4.4434179  \n",
       "5   5     41.85140 -71.40476 ri    2002  3478.6836 2696.490  3.8199463  \n",
       "6   6     41.85140 -71.40476 ri    2003  2280.4382 2718.270  3.7122275  \n",
       "7   7     39.72989 -75.56450 de    2002 19344.2975 1667.700  0.0664879  \n",
       "8   8     39.72989 -75.56450 de    2003 15297.1513 1648.020         NA  \n",
       "9   9     39.73793 -75.58988 de    2002 20792.4774 1295.930  0.0472599  \n",
       "10 10     39.73793 -75.58988 de    2003 16028.1318 1299.580         NA  \n",
       "11 11     39.74178 -75.63618 de    2002 19829.8122  624.536  0.0357069  \n",
       "12 12     39.74178 -75.63618 de    2003 15524.7662  620.483         NA  \n",
       "   Acetonitrile Acetophenone ⋯ p.Cresol    Dichlorobenzene..mixed.isomers.\n",
       "1           NA            NA ⋯          NA         NA                     \n",
       "2           NA            NA ⋯          NA         NA                     \n",
       "3  0.032861600  2.185780e-02 ⋯          NA         NA                     \n",
       "4  0.014451858  2.418690e-02 ⋯          NA         NA                     \n",
       "5  0.034903350  4.407040e-02 ⋯          NA         NA                     \n",
       "6  0.015477429  4.876640e-02 ⋯          NA         NA                     \n",
       "7  0.014608788  9.536654e-05 ⋯          NA         NA                     \n",
       "8  0.058093673  8.014358e-05 ⋯ 1.97086e-05 0.00209470                     \n",
       "9  0.012864160  9.504446e-05 ⋯          NA         NA                     \n",
       "10 0.044517150  7.993891e-05 ⋯ 1.35855e-05 0.00151293                     \n",
       "11 0.008624243  8.356429e-05 ⋯          NA         NA                     \n",
       "12 0.032697829  7.028488e-05 ⋯ 9.88875e-06 0.00116613                     \n",
       "   Dioxane   Hydroquinone Nitrapyrin Pendimethalin Picric.acid\n",
       "1         NA          NA       NA             NA           NA \n",
       "2         NA          NA       NA             NA           NA \n",
       "3         NA          NA       NA             NA           NA \n",
       "4         NA          NA       NA             NA           NA \n",
       "5         NA          NA       NA             NA           NA \n",
       "6         NA          NA       NA             NA           NA \n",
       "7         NA          NA       NA             NA           NA \n",
       "8  0.0501374 5.82889e-05  2.31850    4.99329e-07   0.00389732 \n",
       "9         NA          NA       NA             NA           NA \n",
       "10 0.0358201 3.77766e-05  1.67530    3.49659e-07   0.00281612 \n",
       "11        NA          NA       NA             NA           NA \n",
       "12 0.0272389 2.73587e-05  1.29183    2.59461e-07   0.00217116 \n",
       "   X2.4.6.Trichlorophenol Vinylidene.chloride..1.1.dichloroethylene.\n",
       "1        NA                        NA                               \n",
       "2        NA                        NA                               \n",
       "3        NA                        NA                               \n",
       "4        NA                        NA                               \n",
       "5        NA                        NA                               \n",
       "6        NA                        NA                               \n",
       "7        NA                        NA                               \n",
       "8  0.193211               0.000370246                               \n",
       "9        NA                        NA                               \n",
       "10 0.139533               0.000264518                               \n",
       "11       NA                        NA                               \n",
       "12 0.107513               0.000201149                               \n",
       "   Pentachlorobenzene\n",
       "1           NA       \n",
       "2           NA       \n",
       "3           NA       \n",
       "4           NA       \n",
       "5           NA       \n",
       "6           NA       \n",
       "7           NA       \n",
       "8  0.000689127       \n",
       "9           NA       \n",
       "10 0.000479025       \n",
       "11          NA       \n",
       "12 0.000367790       "
      ]
     },
     "metadata": {},
     "output_type": "display_data"
    }
   ],
   "source": [
    "spdf@data"
   ]
  },
  {
   "cell_type": "markdown",
   "metadata": {},
   "source": [
    "Next we read in a shapefile. Note that when passing in a `.shp` file (or objects from the `sp` or `sf` libraries to the function), the projection stored in the object is used automatically and that coordinate column name specifications are not necesaary."
   ]
  },
  {
   "cell_type": "code",
   "execution_count": 24,
   "metadata": {},
   "outputs": [],
   "source": [
    "spdf <- appendRSEI(data=\"test_data/sp_df.shp\",state=\"state\",year=\"year\")"
   ]
  },
  {
   "cell_type": "code",
   "execution_count": 25,
   "metadata": {},
   "outputs": [
    {
     "data": {
      "text/html": [
       "<table>\n",
       "<caption>A data.frame: 12 × 157</caption>\n",
       "<thead>\n",
       "\t<tr><th scope=col>New_ID</th><th scope=col>state</th><th scope=col>year</th><th scope=col>Toxicity</th><th scope=col>Pop</th><th scope=col>Acetaldehyde</th><th scope=col>Acetonitrile</th><th scope=col>Acetophenone</th><th scope=col>Acrylic.acid</th><th scope=col>Acrylonitrile</th><th scope=col>⋯</th><th scope=col>p.Cresol</th><th scope=col>Dichlorobenzene..mixed.isomers.</th><th scope=col>Dioxane</th><th scope=col>Hydroquinone</th><th scope=col>Nitrapyrin</th><th scope=col>Pendimethalin</th><th scope=col>Picric.acid</th><th scope=col>X2.4.6.Trichlorophenol</th><th scope=col>Vinylidene.chloride..1.1.dichloroethylene.</th><th scope=col>Pentachlorobenzene</th></tr>\n",
       "\t<tr><th scope=col>&lt;int&gt;</th><th scope=col>&lt;chr&gt;</th><th scope=col>&lt;int&gt;</th><th scope=col>&lt;dbl&gt;</th><th scope=col>&lt;dbl&gt;</th><th scope=col>&lt;dbl&gt;</th><th scope=col>&lt;dbl&gt;</th><th scope=col>&lt;dbl&gt;</th><th scope=col>&lt;dbl&gt;</th><th scope=col>&lt;dbl&gt;</th><th scope=col>⋯</th><th scope=col>&lt;dbl&gt;</th><th scope=col>&lt;dbl&gt;</th><th scope=col>&lt;dbl&gt;</th><th scope=col>&lt;dbl&gt;</th><th scope=col>&lt;dbl&gt;</th><th scope=col>&lt;dbl&gt;</th><th scope=col>&lt;dbl&gt;</th><th scope=col>&lt;dbl&gt;</th><th scope=col>&lt;dbl&gt;</th><th scope=col>&lt;dbl&gt;</th></tr>\n",
       "</thead>\n",
       "<tbody>\n",
       "\t<tr><td> 1</td><td>ri</td><td>2002</td><td>  448.2835</td><td> 287.116</td><td>13.1753850</td><td>         NA</td><td>          NA</td><td>       NA</td><td>     NA</td><td>⋯</td><td>         NA</td><td>        NA</td><td>       NA</td><td>         NA</td><td>     NA</td><td>         NA</td><td>        NA</td><td>      NA</td><td>         NA</td><td>         NA</td></tr>\n",
       "\t<tr><td> 2</td><td>ri</td><td>2003</td><td> 1681.4634</td><td> 282.673</td><td>12.7585310</td><td>         NA</td><td>          NA</td><td>       NA</td><td>     NA</td><td>⋯</td><td>         NA</td><td>        NA</td><td>       NA</td><td>         NA</td><td>     NA</td><td>         NA</td><td>        NA</td><td>      NA</td><td>         NA</td><td>         NA</td></tr>\n",
       "\t<tr><td> 3</td><td>ri</td><td>2002</td><td> 6203.0493</td><td>4821.650</td><td> 4.5731921</td><td>0.032861600</td><td>2.185780e-02</td><td>       NA</td><td>     NA</td><td>⋯</td><td>         NA</td><td>        NA</td><td>       NA</td><td>         NA</td><td>     NA</td><td>         NA</td><td>        NA</td><td>      NA</td><td>         NA</td><td>         NA</td></tr>\n",
       "\t<tr><td> 4</td><td>ri</td><td>2003</td><td> 3624.8945</td><td>4788.800</td><td> 4.4434179</td><td>0.014451858</td><td>2.418690e-02</td><td>       NA</td><td>     NA</td><td>⋯</td><td>         NA</td><td>        NA</td><td>       NA</td><td>         NA</td><td>     NA</td><td>         NA</td><td>        NA</td><td>      NA</td><td>         NA</td><td>         NA</td></tr>\n",
       "\t<tr><td> 5</td><td>ri</td><td>2002</td><td> 3478.6836</td><td>2696.490</td><td> 3.8199463</td><td>0.034903350</td><td>4.407040e-02</td><td>       NA</td><td>     NA</td><td>⋯</td><td>         NA</td><td>        NA</td><td>       NA</td><td>         NA</td><td>     NA</td><td>         NA</td><td>        NA</td><td>      NA</td><td>         NA</td><td>         NA</td></tr>\n",
       "\t<tr><td> 6</td><td>ri</td><td>2003</td><td> 2280.4382</td><td>2718.270</td><td> 3.7122275</td><td>0.015477429</td><td>4.876640e-02</td><td>       NA</td><td>     NA</td><td>⋯</td><td>         NA</td><td>        NA</td><td>       NA</td><td>         NA</td><td>     NA</td><td>         NA</td><td>        NA</td><td>      NA</td><td>         NA</td><td>         NA</td></tr>\n",
       "\t<tr><td> 7</td><td>de</td><td>2002</td><td>19344.2975</td><td>1667.700</td><td> 0.0664879</td><td>0.014608788</td><td>9.536654e-05</td><td>0.5316730</td><td>9.44977</td><td>⋯</td><td>         NA</td><td>        NA</td><td>       NA</td><td>         NA</td><td>     NA</td><td>         NA</td><td>        NA</td><td>      NA</td><td>         NA</td><td>         NA</td></tr>\n",
       "\t<tr><td> 8</td><td>de</td><td>2003</td><td>15297.1513</td><td>1648.020</td><td>        NA</td><td>0.058093673</td><td>8.014358e-05</td><td>0.5062484</td><td>9.44977</td><td>⋯</td><td>1.97086e-05</td><td>0.00209470</td><td>0.0501374</td><td>5.82889e-05</td><td>2.31850</td><td>4.99329e-07</td><td>0.00389732</td><td>0.193211</td><td>0.000370246</td><td>0.000689127</td></tr>\n",
       "\t<tr><td> 9</td><td>de</td><td>2002</td><td>20792.4774</td><td>1295.930</td><td> 0.0472599</td><td>0.012864160</td><td>9.504446e-05</td><td>0.5058864</td><td>7.85389</td><td>⋯</td><td>         NA</td><td>        NA</td><td>       NA</td><td>         NA</td><td>     NA</td><td>         NA</td><td>        NA</td><td>      NA</td><td>         NA</td><td>         NA</td></tr>\n",
       "\t<tr><td>10</td><td>de</td><td>2003</td><td>16028.1318</td><td>1299.580</td><td>        NA</td><td>0.044517150</td><td>7.993891e-05</td><td>0.4777524</td><td>7.85389</td><td>⋯</td><td>1.35855e-05</td><td>0.00151293</td><td>0.0358201</td><td>3.77766e-05</td><td>1.67530</td><td>3.49659e-07</td><td>0.00281612</td><td>0.139533</td><td>0.000264518</td><td>0.000479025</td></tr>\n",
       "\t<tr><td>11</td><td>de</td><td>2002</td><td>19829.8122</td><td> 624.536</td><td> 0.0357069</td><td>0.008624243</td><td>8.356429e-05</td><td>0.3744134</td><td>5.12373</td><td>⋯</td><td>         NA</td><td>        NA</td><td>       NA</td><td>         NA</td><td>     NA</td><td>         NA</td><td>        NA</td><td>      NA</td><td>         NA</td><td>         NA</td></tr>\n",
       "\t<tr><td>12</td><td>de</td><td>2003</td><td>15524.7662</td><td> 620.483</td><td>        NA</td><td>0.032697829</td><td>7.028488e-05</td><td>0.3513901</td><td>5.12373</td><td>⋯</td><td>9.88875e-06</td><td>0.00116613</td><td>0.0272389</td><td>2.73587e-05</td><td>1.29183</td><td>2.59461e-07</td><td>0.00217116</td><td>0.107513</td><td>0.000201149</td><td>0.000367790</td></tr>\n",
       "</tbody>\n",
       "</table>\n"
      ],
      "text/latex": [
       "A data.frame: 12 × 157\n",
       "\\begin{tabular}{lllllllllllllllllllll}\n",
       " New\\_ID & state & year & Toxicity & Pop & Acetaldehyde & Acetonitrile & Acetophenone & Acrylic.acid & Acrylonitrile & ⋯ & p.Cresol & Dichlorobenzene..mixed.isomers. & Dioxane & Hydroquinone & Nitrapyrin & Pendimethalin & Picric.acid & X2.4.6.Trichlorophenol & Vinylidene.chloride..1.1.dichloroethylene. & Pentachlorobenzene\\\\\n",
       " <int> & <chr> & <int> & <dbl> & <dbl> & <dbl> & <dbl> & <dbl> & <dbl> & <dbl> & ⋯ & <dbl> & <dbl> & <dbl> & <dbl> & <dbl> & <dbl> & <dbl> & <dbl> & <dbl> & <dbl>\\\\\n",
       "\\hline\n",
       "\t  1 & ri & 2002 &   448.2835 &  287.116 & 13.1753850 &          NA &           NA &        NA &      NA & ⋯ &          NA &         NA &        NA &          NA &      NA &          NA &         NA &       NA &          NA &          NA\\\\\n",
       "\t  2 & ri & 2003 &  1681.4634 &  282.673 & 12.7585310 &          NA &           NA &        NA &      NA & ⋯ &          NA &         NA &        NA &          NA &      NA &          NA &         NA &       NA &          NA &          NA\\\\\n",
       "\t  3 & ri & 2002 &  6203.0493 & 4821.650 &  4.5731921 & 0.032861600 & 2.185780e-02 &        NA &      NA & ⋯ &          NA &         NA &        NA &          NA &      NA &          NA &         NA &       NA &          NA &          NA\\\\\n",
       "\t  4 & ri & 2003 &  3624.8945 & 4788.800 &  4.4434179 & 0.014451858 & 2.418690e-02 &        NA &      NA & ⋯ &          NA &         NA &        NA &          NA &      NA &          NA &         NA &       NA &          NA &          NA\\\\\n",
       "\t  5 & ri & 2002 &  3478.6836 & 2696.490 &  3.8199463 & 0.034903350 & 4.407040e-02 &        NA &      NA & ⋯ &          NA &         NA &        NA &          NA &      NA &          NA &         NA &       NA &          NA &          NA\\\\\n",
       "\t  6 & ri & 2003 &  2280.4382 & 2718.270 &  3.7122275 & 0.015477429 & 4.876640e-02 &        NA &      NA & ⋯ &          NA &         NA &        NA &          NA &      NA &          NA &         NA &       NA &          NA &          NA\\\\\n",
       "\t  7 & de & 2002 & 19344.2975 & 1667.700 &  0.0664879 & 0.014608788 & 9.536654e-05 & 0.5316730 & 9.44977 & ⋯ &          NA &         NA &        NA &          NA &      NA &          NA &         NA &       NA &          NA &          NA\\\\\n",
       "\t  8 & de & 2003 & 15297.1513 & 1648.020 &         NA & 0.058093673 & 8.014358e-05 & 0.5062484 & 9.44977 & ⋯ & 1.97086e-05 & 0.00209470 & 0.0501374 & 5.82889e-05 & 2.31850 & 4.99329e-07 & 0.00389732 & 0.193211 & 0.000370246 & 0.000689127\\\\\n",
       "\t  9 & de & 2002 & 20792.4774 & 1295.930 &  0.0472599 & 0.012864160 & 9.504446e-05 & 0.5058864 & 7.85389 & ⋯ &          NA &         NA &        NA &          NA &      NA &          NA &         NA &       NA &          NA &          NA\\\\\n",
       "\t 10 & de & 2003 & 16028.1318 & 1299.580 &         NA & 0.044517150 & 7.993891e-05 & 0.4777524 & 7.85389 & ⋯ & 1.35855e-05 & 0.00151293 & 0.0358201 & 3.77766e-05 & 1.67530 & 3.49659e-07 & 0.00281612 & 0.139533 & 0.000264518 & 0.000479025\\\\\n",
       "\t 11 & de & 2002 & 19829.8122 &  624.536 &  0.0357069 & 0.008624243 & 8.356429e-05 & 0.3744134 & 5.12373 & ⋯ &          NA &         NA &        NA &          NA &      NA &          NA &         NA &       NA &          NA &          NA\\\\\n",
       "\t 12 & de & 2003 & 15524.7662 &  620.483 &         NA & 0.032697829 & 7.028488e-05 & 0.3513901 & 5.12373 & ⋯ & 9.88875e-06 & 0.00116613 & 0.0272389 & 2.73587e-05 & 1.29183 & 2.59461e-07 & 0.00217116 & 0.107513 & 0.000201149 & 0.000367790\\\\\n",
       "\\end{tabular}\n"
      ],
      "text/markdown": [
       "\n",
       "A data.frame: 12 × 157\n",
       "\n",
       "| New_ID &lt;int&gt; | state &lt;chr&gt; | year &lt;int&gt; | Toxicity &lt;dbl&gt; | Pop &lt;dbl&gt; | Acetaldehyde &lt;dbl&gt; | Acetonitrile &lt;dbl&gt; | Acetophenone &lt;dbl&gt; | Acrylic.acid &lt;dbl&gt; | Acrylonitrile &lt;dbl&gt; | ⋯ ⋯ | p.Cresol &lt;dbl&gt; | Dichlorobenzene..mixed.isomers. &lt;dbl&gt; | Dioxane &lt;dbl&gt; | Hydroquinone &lt;dbl&gt; | Nitrapyrin &lt;dbl&gt; | Pendimethalin &lt;dbl&gt; | Picric.acid &lt;dbl&gt; | X2.4.6.Trichlorophenol &lt;dbl&gt; | Vinylidene.chloride..1.1.dichloroethylene. &lt;dbl&gt; | Pentachlorobenzene &lt;dbl&gt; |\n",
       "|---|---|---|---|---|---|---|---|---|---|---|---|---|---|---|---|---|---|---|---|---|\n",
       "|  1 | ri | 2002 |   448.2835 |  287.116 | 13.1753850 |          NA |           NA |        NA |      NA | ⋯ |          NA |         NA |        NA |          NA |      NA |          NA |         NA |       NA |          NA |          NA |\n",
       "|  2 | ri | 2003 |  1681.4634 |  282.673 | 12.7585310 |          NA |           NA |        NA |      NA | ⋯ |          NA |         NA |        NA |          NA |      NA |          NA |         NA |       NA |          NA |          NA |\n",
       "|  3 | ri | 2002 |  6203.0493 | 4821.650 |  4.5731921 | 0.032861600 | 2.185780e-02 |        NA |      NA | ⋯ |          NA |         NA |        NA |          NA |      NA |          NA |         NA |       NA |          NA |          NA |\n",
       "|  4 | ri | 2003 |  3624.8945 | 4788.800 |  4.4434179 | 0.014451858 | 2.418690e-02 |        NA |      NA | ⋯ |          NA |         NA |        NA |          NA |      NA |          NA |         NA |       NA |          NA |          NA |\n",
       "|  5 | ri | 2002 |  3478.6836 | 2696.490 |  3.8199463 | 0.034903350 | 4.407040e-02 |        NA |      NA | ⋯ |          NA |         NA |        NA |          NA |      NA |          NA |         NA |       NA |          NA |          NA |\n",
       "|  6 | ri | 2003 |  2280.4382 | 2718.270 |  3.7122275 | 0.015477429 | 4.876640e-02 |        NA |      NA | ⋯ |          NA |         NA |        NA |          NA |      NA |          NA |         NA |       NA |          NA |          NA |\n",
       "|  7 | de | 2002 | 19344.2975 | 1667.700 |  0.0664879 | 0.014608788 | 9.536654e-05 | 0.5316730 | 9.44977 | ⋯ |          NA |         NA |        NA |          NA |      NA |          NA |         NA |       NA |          NA |          NA |\n",
       "|  8 | de | 2003 | 15297.1513 | 1648.020 |         NA | 0.058093673 | 8.014358e-05 | 0.5062484 | 9.44977 | ⋯ | 1.97086e-05 | 0.00209470 | 0.0501374 | 5.82889e-05 | 2.31850 | 4.99329e-07 | 0.00389732 | 0.193211 | 0.000370246 | 0.000689127 |\n",
       "|  9 | de | 2002 | 20792.4774 | 1295.930 |  0.0472599 | 0.012864160 | 9.504446e-05 | 0.5058864 | 7.85389 | ⋯ |          NA |         NA |        NA |          NA |      NA |          NA |         NA |       NA |          NA |          NA |\n",
       "| 10 | de | 2003 | 16028.1318 | 1299.580 |         NA | 0.044517150 | 7.993891e-05 | 0.4777524 | 7.85389 | ⋯ | 1.35855e-05 | 0.00151293 | 0.0358201 | 3.77766e-05 | 1.67530 | 3.49659e-07 | 0.00281612 | 0.139533 | 0.000264518 | 0.000479025 |\n",
       "| 11 | de | 2002 | 19829.8122 |  624.536 |  0.0357069 | 0.008624243 | 8.356429e-05 | 0.3744134 | 5.12373 | ⋯ |          NA |         NA |        NA |          NA |      NA |          NA |         NA |       NA |          NA |          NA |\n",
       "| 12 | de | 2003 | 15524.7662 |  620.483 |         NA | 0.032697829 | 7.028488e-05 | 0.3513901 | 5.12373 | ⋯ | 9.88875e-06 | 0.00116613 | 0.0272389 | 2.73587e-05 | 1.29183 | 2.59461e-07 | 0.00217116 | 0.107513 | 0.000201149 | 0.000367790 |\n",
       "\n"
      ],
      "text/plain": [
       "   New_ID state year Toxicity   Pop      Acetaldehyde Acetonitrile Acetophenone\n",
       "1   1     ri    2002   448.2835  287.116 13.1753850            NA            NA\n",
       "2   2     ri    2003  1681.4634  282.673 12.7585310            NA            NA\n",
       "3   3     ri    2002  6203.0493 4821.650  4.5731921   0.032861600  2.185780e-02\n",
       "4   4     ri    2003  3624.8945 4788.800  4.4434179   0.014451858  2.418690e-02\n",
       "5   5     ri    2002  3478.6836 2696.490  3.8199463   0.034903350  4.407040e-02\n",
       "6   6     ri    2003  2280.4382 2718.270  3.7122275   0.015477429  4.876640e-02\n",
       "7   7     de    2002 19344.2975 1667.700  0.0664879   0.014608788  9.536654e-05\n",
       "8   8     de    2003 15297.1513 1648.020         NA   0.058093673  8.014358e-05\n",
       "9   9     de    2002 20792.4774 1295.930  0.0472599   0.012864160  9.504446e-05\n",
       "10 10     de    2003 16028.1318 1299.580         NA   0.044517150  7.993891e-05\n",
       "11 11     de    2002 19829.8122  624.536  0.0357069   0.008624243  8.356429e-05\n",
       "12 12     de    2003 15524.7662  620.483         NA   0.032697829  7.028488e-05\n",
       "   Acrylic.acid Acrylonitrile ⋯ p.Cresol    Dichlorobenzene..mixed.isomers.\n",
       "1         NA         NA       ⋯          NA         NA                     \n",
       "2         NA         NA       ⋯          NA         NA                     \n",
       "3         NA         NA       ⋯          NA         NA                     \n",
       "4         NA         NA       ⋯          NA         NA                     \n",
       "5         NA         NA       ⋯          NA         NA                     \n",
       "6         NA         NA       ⋯          NA         NA                     \n",
       "7  0.5316730    9.44977       ⋯          NA         NA                     \n",
       "8  0.5062484    9.44977       ⋯ 1.97086e-05 0.00209470                     \n",
       "9  0.5058864    7.85389       ⋯          NA         NA                     \n",
       "10 0.4777524    7.85389       ⋯ 1.35855e-05 0.00151293                     \n",
       "11 0.3744134    5.12373       ⋯          NA         NA                     \n",
       "12 0.3513901    5.12373       ⋯ 9.88875e-06 0.00116613                     \n",
       "   Dioxane   Hydroquinone Nitrapyrin Pendimethalin Picric.acid\n",
       "1         NA          NA       NA             NA           NA \n",
       "2         NA          NA       NA             NA           NA \n",
       "3         NA          NA       NA             NA           NA \n",
       "4         NA          NA       NA             NA           NA \n",
       "5         NA          NA       NA             NA           NA \n",
       "6         NA          NA       NA             NA           NA \n",
       "7         NA          NA       NA             NA           NA \n",
       "8  0.0501374 5.82889e-05  2.31850    4.99329e-07   0.00389732 \n",
       "9         NA          NA       NA             NA           NA \n",
       "10 0.0358201 3.77766e-05  1.67530    3.49659e-07   0.00281612 \n",
       "11        NA          NA       NA             NA           NA \n",
       "12 0.0272389 2.73587e-05  1.29183    2.59461e-07   0.00217116 \n",
       "   X2.4.6.Trichlorophenol Vinylidene.chloride..1.1.dichloroethylene.\n",
       "1        NA                        NA                               \n",
       "2        NA                        NA                               \n",
       "3        NA                        NA                               \n",
       "4        NA                        NA                               \n",
       "5        NA                        NA                               \n",
       "6        NA                        NA                               \n",
       "7        NA                        NA                               \n",
       "8  0.193211               0.000370246                               \n",
       "9        NA                        NA                               \n",
       "10 0.139533               0.000264518                               \n",
       "11       NA                        NA                               \n",
       "12 0.107513               0.000201149                               \n",
       "   Pentachlorobenzene\n",
       "1           NA       \n",
       "2           NA       \n",
       "3           NA       \n",
       "4           NA       \n",
       "5           NA       \n",
       "6           NA       \n",
       "7           NA       \n",
       "8  0.000689127       \n",
       "9           NA       \n",
       "10 0.000479025       \n",
       "11          NA       \n",
       "12 0.000367790       "
      ]
     },
     "metadata": {},
     "output_type": "display_data"
    }
   ],
   "source": [
    "spdf@data"
   ]
  },
  {
   "cell_type": "markdown",
   "metadata": {},
   "source": [
    "Importing `.rds` files works much the same and allows the flexibility of importing any `R` object, for instance a data frame object."
   ]
  },
  {
   "cell_type": "code",
   "execution_count": 26,
   "metadata": {},
   "outputs": [],
   "source": [
    "spdf <-appendRSEI(data=\"test_data/sp_df.rds\",state=\"state\",year=\"year\",\n",
    "                  x_name=\"longitude\",y_name=\"latitude\")"
   ]
  },
  {
   "cell_type": "code",
   "execution_count": 27,
   "metadata": {},
   "outputs": [
    {
     "data": {
      "text/html": [
       "<table>\n",
       "<caption>A data.frame: 12 × 159</caption>\n",
       "<thead>\n",
       "\t<tr><th scope=col>New_ID</th><th scope=col>latitude</th><th scope=col>longitude</th><th scope=col>state</th><th scope=col>year</th><th scope=col>Toxicity</th><th scope=col>Pop</th><th scope=col>Acetaldehyde</th><th scope=col>Acetonitrile</th><th scope=col>Acetophenone</th><th scope=col>⋯</th><th scope=col>p.Cresol</th><th scope=col>Dichlorobenzene..mixed.isomers.</th><th scope=col>Dioxane</th><th scope=col>Hydroquinone</th><th scope=col>Nitrapyrin</th><th scope=col>Pendimethalin</th><th scope=col>Picric.acid</th><th scope=col>X2.4.6.Trichlorophenol</th><th scope=col>Vinylidene.chloride..1.1.dichloroethylene.</th><th scope=col>Pentachlorobenzene</th></tr>\n",
       "\t<tr><th scope=col>&lt;int&gt;</th><th scope=col>&lt;dbl&gt;</th><th scope=col>&lt;dbl&gt;</th><th scope=col>&lt;chr&gt;</th><th scope=col>&lt;dbl&gt;</th><th scope=col>&lt;dbl&gt;</th><th scope=col>&lt;dbl&gt;</th><th scope=col>&lt;dbl&gt;</th><th scope=col>&lt;dbl&gt;</th><th scope=col>&lt;dbl&gt;</th><th scope=col>⋯</th><th scope=col>&lt;dbl&gt;</th><th scope=col>&lt;dbl&gt;</th><th scope=col>&lt;dbl&gt;</th><th scope=col>&lt;dbl&gt;</th><th scope=col>&lt;dbl&gt;</th><th scope=col>&lt;dbl&gt;</th><th scope=col>&lt;dbl&gt;</th><th scope=col>&lt;dbl&gt;</th><th scope=col>&lt;dbl&gt;</th><th scope=col>&lt;dbl&gt;</th></tr>\n",
       "</thead>\n",
       "<tbody>\n",
       "\t<tr><td> 1</td><td>41.48654</td><td>-71.30857</td><td>ri</td><td>2002</td><td>  448.2835</td><td> 287.116</td><td>13.1753850</td><td>         NA</td><td>          NA</td><td>⋯</td><td>         NA</td><td>        NA</td><td>       NA</td><td>         NA</td><td>     NA</td><td>         NA</td><td>        NA</td><td>      NA</td><td>         NA</td><td>         NA</td></tr>\n",
       "\t<tr><td> 2</td><td>41.48654</td><td>-71.30857</td><td>ri</td><td>2003</td><td> 1681.4634</td><td> 282.673</td><td>12.7585310</td><td>         NA</td><td>          NA</td><td>⋯</td><td>         NA</td><td>        NA</td><td>       NA</td><td>         NA</td><td>     NA</td><td>         NA</td><td>        NA</td><td>      NA</td><td>         NA</td><td>         NA</td></tr>\n",
       "\t<tr><td> 3</td><td>41.81203</td><td>-71.41464</td><td>ri</td><td>2002</td><td> 6203.0493</td><td>4821.650</td><td> 4.5731921</td><td>0.032861600</td><td>2.185780e-02</td><td>⋯</td><td>         NA</td><td>        NA</td><td>       NA</td><td>         NA</td><td>     NA</td><td>         NA</td><td>        NA</td><td>      NA</td><td>         NA</td><td>         NA</td></tr>\n",
       "\t<tr><td> 4</td><td>41.81203</td><td>-71.41464</td><td>ri</td><td>2003</td><td> 3624.8945</td><td>4788.800</td><td> 4.4434179</td><td>0.014451858</td><td>2.418690e-02</td><td>⋯</td><td>         NA</td><td>        NA</td><td>       NA</td><td>         NA</td><td>     NA</td><td>         NA</td><td>        NA</td><td>      NA</td><td>         NA</td><td>         NA</td></tr>\n",
       "\t<tr><td> 5</td><td>41.85140</td><td>-71.40476</td><td>ri</td><td>2002</td><td> 3478.6836</td><td>2696.490</td><td> 3.8199463</td><td>0.034903350</td><td>4.407040e-02</td><td>⋯</td><td>         NA</td><td>        NA</td><td>       NA</td><td>         NA</td><td>     NA</td><td>         NA</td><td>        NA</td><td>      NA</td><td>         NA</td><td>         NA</td></tr>\n",
       "\t<tr><td> 6</td><td>41.85140</td><td>-71.40476</td><td>ri</td><td>2003</td><td> 2280.4382</td><td>2718.270</td><td> 3.7122275</td><td>0.015477429</td><td>4.876640e-02</td><td>⋯</td><td>         NA</td><td>        NA</td><td>       NA</td><td>         NA</td><td>     NA</td><td>         NA</td><td>        NA</td><td>      NA</td><td>         NA</td><td>         NA</td></tr>\n",
       "\t<tr><td> 7</td><td>39.72989</td><td>-75.56450</td><td>de</td><td>2002</td><td>19344.2975</td><td>1667.700</td><td> 0.0664879</td><td>0.014608788</td><td>9.536654e-05</td><td>⋯</td><td>         NA</td><td>        NA</td><td>       NA</td><td>         NA</td><td>     NA</td><td>         NA</td><td>        NA</td><td>      NA</td><td>         NA</td><td>         NA</td></tr>\n",
       "\t<tr><td> 8</td><td>39.72989</td><td>-75.56450</td><td>de</td><td>2003</td><td>15297.1513</td><td>1648.020</td><td>        NA</td><td>0.058093673</td><td>8.014358e-05</td><td>⋯</td><td>1.97086e-05</td><td>0.00209470</td><td>0.0501374</td><td>5.82889e-05</td><td>2.31850</td><td>4.99329e-07</td><td>0.00389732</td><td>0.193211</td><td>0.000370246</td><td>0.000689127</td></tr>\n",
       "\t<tr><td> 9</td><td>39.73793</td><td>-75.58988</td><td>de</td><td>2002</td><td>20792.4774</td><td>1295.930</td><td> 0.0472599</td><td>0.012864160</td><td>9.504446e-05</td><td>⋯</td><td>         NA</td><td>        NA</td><td>       NA</td><td>         NA</td><td>     NA</td><td>         NA</td><td>        NA</td><td>      NA</td><td>         NA</td><td>         NA</td></tr>\n",
       "\t<tr><td>10</td><td>39.73793</td><td>-75.58988</td><td>de</td><td>2003</td><td>16028.1318</td><td>1299.580</td><td>        NA</td><td>0.044517150</td><td>7.993891e-05</td><td>⋯</td><td>1.35855e-05</td><td>0.00151293</td><td>0.0358201</td><td>3.77766e-05</td><td>1.67530</td><td>3.49659e-07</td><td>0.00281612</td><td>0.139533</td><td>0.000264518</td><td>0.000479025</td></tr>\n",
       "\t<tr><td>11</td><td>39.74178</td><td>-75.63618</td><td>de</td><td>2002</td><td>19829.8122</td><td> 624.536</td><td> 0.0357069</td><td>0.008624243</td><td>8.356429e-05</td><td>⋯</td><td>         NA</td><td>        NA</td><td>       NA</td><td>         NA</td><td>     NA</td><td>         NA</td><td>        NA</td><td>      NA</td><td>         NA</td><td>         NA</td></tr>\n",
       "\t<tr><td>12</td><td>39.74178</td><td>-75.63618</td><td>de</td><td>2003</td><td>15524.7662</td><td> 620.483</td><td>        NA</td><td>0.032697829</td><td>7.028488e-05</td><td>⋯</td><td>9.88875e-06</td><td>0.00116613</td><td>0.0272389</td><td>2.73587e-05</td><td>1.29183</td><td>2.59461e-07</td><td>0.00217116</td><td>0.107513</td><td>0.000201149</td><td>0.000367790</td></tr>\n",
       "</tbody>\n",
       "</table>\n"
      ],
      "text/latex": [
       "A data.frame: 12 × 159\n",
       "\\begin{tabular}{lllllllllllllllllllll}\n",
       " New\\_ID & latitude & longitude & state & year & Toxicity & Pop & Acetaldehyde & Acetonitrile & Acetophenone & ⋯ & p.Cresol & Dichlorobenzene..mixed.isomers. & Dioxane & Hydroquinone & Nitrapyrin & Pendimethalin & Picric.acid & X2.4.6.Trichlorophenol & Vinylidene.chloride..1.1.dichloroethylene. & Pentachlorobenzene\\\\\n",
       " <int> & <dbl> & <dbl> & <chr> & <dbl> & <dbl> & <dbl> & <dbl> & <dbl> & <dbl> & ⋯ & <dbl> & <dbl> & <dbl> & <dbl> & <dbl> & <dbl> & <dbl> & <dbl> & <dbl> & <dbl>\\\\\n",
       "\\hline\n",
       "\t  1 & 41.48654 & -71.30857 & ri & 2002 &   448.2835 &  287.116 & 13.1753850 &          NA &           NA & ⋯ &          NA &         NA &        NA &          NA &      NA &          NA &         NA &       NA &          NA &          NA\\\\\n",
       "\t  2 & 41.48654 & -71.30857 & ri & 2003 &  1681.4634 &  282.673 & 12.7585310 &          NA &           NA & ⋯ &          NA &         NA &        NA &          NA &      NA &          NA &         NA &       NA &          NA &          NA\\\\\n",
       "\t  3 & 41.81203 & -71.41464 & ri & 2002 &  6203.0493 & 4821.650 &  4.5731921 & 0.032861600 & 2.185780e-02 & ⋯ &          NA &         NA &        NA &          NA &      NA &          NA &         NA &       NA &          NA &          NA\\\\\n",
       "\t  4 & 41.81203 & -71.41464 & ri & 2003 &  3624.8945 & 4788.800 &  4.4434179 & 0.014451858 & 2.418690e-02 & ⋯ &          NA &         NA &        NA &          NA &      NA &          NA &         NA &       NA &          NA &          NA\\\\\n",
       "\t  5 & 41.85140 & -71.40476 & ri & 2002 &  3478.6836 & 2696.490 &  3.8199463 & 0.034903350 & 4.407040e-02 & ⋯ &          NA &         NA &        NA &          NA &      NA &          NA &         NA &       NA &          NA &          NA\\\\\n",
       "\t  6 & 41.85140 & -71.40476 & ri & 2003 &  2280.4382 & 2718.270 &  3.7122275 & 0.015477429 & 4.876640e-02 & ⋯ &          NA &         NA &        NA &          NA &      NA &          NA &         NA &       NA &          NA &          NA\\\\\n",
       "\t  7 & 39.72989 & -75.56450 & de & 2002 & 19344.2975 & 1667.700 &  0.0664879 & 0.014608788 & 9.536654e-05 & ⋯ &          NA &         NA &        NA &          NA &      NA &          NA &         NA &       NA &          NA &          NA\\\\\n",
       "\t  8 & 39.72989 & -75.56450 & de & 2003 & 15297.1513 & 1648.020 &         NA & 0.058093673 & 8.014358e-05 & ⋯ & 1.97086e-05 & 0.00209470 & 0.0501374 & 5.82889e-05 & 2.31850 & 4.99329e-07 & 0.00389732 & 0.193211 & 0.000370246 & 0.000689127\\\\\n",
       "\t  9 & 39.73793 & -75.58988 & de & 2002 & 20792.4774 & 1295.930 &  0.0472599 & 0.012864160 & 9.504446e-05 & ⋯ &          NA &         NA &        NA &          NA &      NA &          NA &         NA &       NA &          NA &          NA\\\\\n",
       "\t 10 & 39.73793 & -75.58988 & de & 2003 & 16028.1318 & 1299.580 &         NA & 0.044517150 & 7.993891e-05 & ⋯ & 1.35855e-05 & 0.00151293 & 0.0358201 & 3.77766e-05 & 1.67530 & 3.49659e-07 & 0.00281612 & 0.139533 & 0.000264518 & 0.000479025\\\\\n",
       "\t 11 & 39.74178 & -75.63618 & de & 2002 & 19829.8122 &  624.536 &  0.0357069 & 0.008624243 & 8.356429e-05 & ⋯ &          NA &         NA &        NA &          NA &      NA &          NA &         NA &       NA &          NA &          NA\\\\\n",
       "\t 12 & 39.74178 & -75.63618 & de & 2003 & 15524.7662 &  620.483 &         NA & 0.032697829 & 7.028488e-05 & ⋯ & 9.88875e-06 & 0.00116613 & 0.0272389 & 2.73587e-05 & 1.29183 & 2.59461e-07 & 0.00217116 & 0.107513 & 0.000201149 & 0.000367790\\\\\n",
       "\\end{tabular}\n"
      ],
      "text/markdown": [
       "\n",
       "A data.frame: 12 × 159\n",
       "\n",
       "| New_ID &lt;int&gt; | latitude &lt;dbl&gt; | longitude &lt;dbl&gt; | state &lt;chr&gt; | year &lt;dbl&gt; | Toxicity &lt;dbl&gt; | Pop &lt;dbl&gt; | Acetaldehyde &lt;dbl&gt; | Acetonitrile &lt;dbl&gt; | Acetophenone &lt;dbl&gt; | ⋯ ⋯ | p.Cresol &lt;dbl&gt; | Dichlorobenzene..mixed.isomers. &lt;dbl&gt; | Dioxane &lt;dbl&gt; | Hydroquinone &lt;dbl&gt; | Nitrapyrin &lt;dbl&gt; | Pendimethalin &lt;dbl&gt; | Picric.acid &lt;dbl&gt; | X2.4.6.Trichlorophenol &lt;dbl&gt; | Vinylidene.chloride..1.1.dichloroethylene. &lt;dbl&gt; | Pentachlorobenzene &lt;dbl&gt; |\n",
       "|---|---|---|---|---|---|---|---|---|---|---|---|---|---|---|---|---|---|---|---|---|\n",
       "|  1 | 41.48654 | -71.30857 | ri | 2002 |   448.2835 |  287.116 | 13.1753850 |          NA |           NA | ⋯ |          NA |         NA |        NA |          NA |      NA |          NA |         NA |       NA |          NA |          NA |\n",
       "|  2 | 41.48654 | -71.30857 | ri | 2003 |  1681.4634 |  282.673 | 12.7585310 |          NA |           NA | ⋯ |          NA |         NA |        NA |          NA |      NA |          NA |         NA |       NA |          NA |          NA |\n",
       "|  3 | 41.81203 | -71.41464 | ri | 2002 |  6203.0493 | 4821.650 |  4.5731921 | 0.032861600 | 2.185780e-02 | ⋯ |          NA |         NA |        NA |          NA |      NA |          NA |         NA |       NA |          NA |          NA |\n",
       "|  4 | 41.81203 | -71.41464 | ri | 2003 |  3624.8945 | 4788.800 |  4.4434179 | 0.014451858 | 2.418690e-02 | ⋯ |          NA |         NA |        NA |          NA |      NA |          NA |         NA |       NA |          NA |          NA |\n",
       "|  5 | 41.85140 | -71.40476 | ri | 2002 |  3478.6836 | 2696.490 |  3.8199463 | 0.034903350 | 4.407040e-02 | ⋯ |          NA |         NA |        NA |          NA |      NA |          NA |         NA |       NA |          NA |          NA |\n",
       "|  6 | 41.85140 | -71.40476 | ri | 2003 |  2280.4382 | 2718.270 |  3.7122275 | 0.015477429 | 4.876640e-02 | ⋯ |          NA |         NA |        NA |          NA |      NA |          NA |         NA |       NA |          NA |          NA |\n",
       "|  7 | 39.72989 | -75.56450 | de | 2002 | 19344.2975 | 1667.700 |  0.0664879 | 0.014608788 | 9.536654e-05 | ⋯ |          NA |         NA |        NA |          NA |      NA |          NA |         NA |       NA |          NA |          NA |\n",
       "|  8 | 39.72989 | -75.56450 | de | 2003 | 15297.1513 | 1648.020 |         NA | 0.058093673 | 8.014358e-05 | ⋯ | 1.97086e-05 | 0.00209470 | 0.0501374 | 5.82889e-05 | 2.31850 | 4.99329e-07 | 0.00389732 | 0.193211 | 0.000370246 | 0.000689127 |\n",
       "|  9 | 39.73793 | -75.58988 | de | 2002 | 20792.4774 | 1295.930 |  0.0472599 | 0.012864160 | 9.504446e-05 | ⋯ |          NA |         NA |        NA |          NA |      NA |          NA |         NA |       NA |          NA |          NA |\n",
       "| 10 | 39.73793 | -75.58988 | de | 2003 | 16028.1318 | 1299.580 |         NA | 0.044517150 | 7.993891e-05 | ⋯ | 1.35855e-05 | 0.00151293 | 0.0358201 | 3.77766e-05 | 1.67530 | 3.49659e-07 | 0.00281612 | 0.139533 | 0.000264518 | 0.000479025 |\n",
       "| 11 | 39.74178 | -75.63618 | de | 2002 | 19829.8122 |  624.536 |  0.0357069 | 0.008624243 | 8.356429e-05 | ⋯ |          NA |         NA |        NA |          NA |      NA |          NA |         NA |       NA |          NA |          NA |\n",
       "| 12 | 39.74178 | -75.63618 | de | 2003 | 15524.7662 |  620.483 |         NA | 0.032697829 | 7.028488e-05 | ⋯ | 9.88875e-06 | 0.00116613 | 0.0272389 | 2.73587e-05 | 1.29183 | 2.59461e-07 | 0.00217116 | 0.107513 | 0.000201149 | 0.000367790 |\n",
       "\n"
      ],
      "text/plain": [
       "   New_ID latitude longitude state year Toxicity   Pop      Acetaldehyde\n",
       "1   1     41.48654 -71.30857 ri    2002   448.2835  287.116 13.1753850  \n",
       "2   2     41.48654 -71.30857 ri    2003  1681.4634  282.673 12.7585310  \n",
       "3   3     41.81203 -71.41464 ri    2002  6203.0493 4821.650  4.5731921  \n",
       "4   4     41.81203 -71.41464 ri    2003  3624.8945 4788.800  4.4434179  \n",
       "5   5     41.85140 -71.40476 ri    2002  3478.6836 2696.490  3.8199463  \n",
       "6   6     41.85140 -71.40476 ri    2003  2280.4382 2718.270  3.7122275  \n",
       "7   7     39.72989 -75.56450 de    2002 19344.2975 1667.700  0.0664879  \n",
       "8   8     39.72989 -75.56450 de    2003 15297.1513 1648.020         NA  \n",
       "9   9     39.73793 -75.58988 de    2002 20792.4774 1295.930  0.0472599  \n",
       "10 10     39.73793 -75.58988 de    2003 16028.1318 1299.580         NA  \n",
       "11 11     39.74178 -75.63618 de    2002 19829.8122  624.536  0.0357069  \n",
       "12 12     39.74178 -75.63618 de    2003 15524.7662  620.483         NA  \n",
       "   Acetonitrile Acetophenone ⋯ p.Cresol    Dichlorobenzene..mixed.isomers.\n",
       "1           NA            NA ⋯          NA         NA                     \n",
       "2           NA            NA ⋯          NA         NA                     \n",
       "3  0.032861600  2.185780e-02 ⋯          NA         NA                     \n",
       "4  0.014451858  2.418690e-02 ⋯          NA         NA                     \n",
       "5  0.034903350  4.407040e-02 ⋯          NA         NA                     \n",
       "6  0.015477429  4.876640e-02 ⋯          NA         NA                     \n",
       "7  0.014608788  9.536654e-05 ⋯          NA         NA                     \n",
       "8  0.058093673  8.014358e-05 ⋯ 1.97086e-05 0.00209470                     \n",
       "9  0.012864160  9.504446e-05 ⋯          NA         NA                     \n",
       "10 0.044517150  7.993891e-05 ⋯ 1.35855e-05 0.00151293                     \n",
       "11 0.008624243  8.356429e-05 ⋯          NA         NA                     \n",
       "12 0.032697829  7.028488e-05 ⋯ 9.88875e-06 0.00116613                     \n",
       "   Dioxane   Hydroquinone Nitrapyrin Pendimethalin Picric.acid\n",
       "1         NA          NA       NA             NA           NA \n",
       "2         NA          NA       NA             NA           NA \n",
       "3         NA          NA       NA             NA           NA \n",
       "4         NA          NA       NA             NA           NA \n",
       "5         NA          NA       NA             NA           NA \n",
       "6         NA          NA       NA             NA           NA \n",
       "7         NA          NA       NA             NA           NA \n",
       "8  0.0501374 5.82889e-05  2.31850    4.99329e-07   0.00389732 \n",
       "9         NA          NA       NA             NA           NA \n",
       "10 0.0358201 3.77766e-05  1.67530    3.49659e-07   0.00281612 \n",
       "11        NA          NA       NA             NA           NA \n",
       "12 0.0272389 2.73587e-05  1.29183    2.59461e-07   0.00217116 \n",
       "   X2.4.6.Trichlorophenol Vinylidene.chloride..1.1.dichloroethylene.\n",
       "1        NA                        NA                               \n",
       "2        NA                        NA                               \n",
       "3        NA                        NA                               \n",
       "4        NA                        NA                               \n",
       "5        NA                        NA                               \n",
       "6        NA                        NA                               \n",
       "7        NA                        NA                               \n",
       "8  0.193211               0.000370246                               \n",
       "9        NA                        NA                               \n",
       "10 0.139533               0.000264518                               \n",
       "11       NA                        NA                               \n",
       "12 0.107513               0.000201149                               \n",
       "   Pentachlorobenzene\n",
       "1           NA       \n",
       "2           NA       \n",
       "3           NA       \n",
       "4           NA       \n",
       "5           NA       \n",
       "6           NA       \n",
       "7           NA       \n",
       "8  0.000689127       \n",
       "9           NA       \n",
       "10 0.000479025       \n",
       "11          NA       \n",
       "12 0.000367790       "
      ]
     },
     "metadata": {},
     "output_type": "display_data"
    }
   ],
   "source": [
    "spdf@data"
   ]
  },
  {
   "cell_type": "markdown",
   "metadata": {},
   "source": [
    "### Storing the output"
   ]
  },
  {
   "cell_type": "markdown",
   "metadata": {},
   "source": [
    "To this point we have used only the `SpatialPointsDataFrame` object returned by the function call. The `out_file` parameter allows the results to be written to the hard drive.\n",
    "\n",
    "The RSEI data comes from EPA as a raster of 0.5 mile grid cells. The function downloads and processes this raster data. By default these files are stored as RDS files. They can optionally be converted to a variety of raster formats using the `raster` parameter or deleted by setting `raster=FALSE`."
   ]
  },
  {
   "cell_type": "markdown",
   "metadata": {},
   "source": [
    "First is an example of storing the point data as a CSV."
   ]
  },
  {
   "cell_type": "code",
   "execution_count": 28,
   "metadata": {},
   "outputs": [],
   "source": [
    "spdf <- appendRSEI(sp_df, state=\"state\", year=\"year\", x_name=\"longitude\", y_name=\"latitude\",\n",
    "                   out_file=\"rsei_output.csv\")"
   ]
  },
  {
   "cell_type": "markdown",
   "metadata": {},
   "source": [
    "Note that the spatial points data frame object is still returned."
   ]
  },
  {
   "cell_type": "code",
   "execution_count": 29,
   "metadata": {},
   "outputs": [
    {
     "data": {
      "text/html": [
       "<table>\n",
       "<caption>A data.frame: 4 × 147</caption>\n",
       "<thead>\n",
       "\t<tr><th scope=col>New_ID</th><th scope=col>x</th><th scope=col>y</th><th scope=col>state</th><th scope=col>year</th><th scope=col>Toxicity</th><th scope=col>Pop</th><th scope=col>Acetaldehyde</th><th scope=col>Acetonitrile</th><th scope=col>Acetophenone</th><th scope=col>⋯</th><th scope=col>Propylene.oxide</th><th scope=col>Sodium.nitrite</th><th scope=col>Titanium.tetrachloride</th><th scope=col>Toluenediisocyanate</th><th scope=col>o.Toluidine</th><th scope=col>X1.1.1.Trichloroethane</th><th scope=col>X2.4.5.Trichlorophenol</th><th scope=col>Urethane..Ethyl.carbamate.</th><th scope=col>Vinyl.chloride</th><th scope=col>p.Chloroaniline</th></tr>\n",
       "\t<tr><th scope=col>&lt;int&gt;</th><th scope=col>&lt;dbl&gt;</th><th scope=col>&lt;dbl&gt;</th><th scope=col>&lt;chr&gt;</th><th scope=col>&lt;dbl&gt;</th><th scope=col>&lt;dbl&gt;</th><th scope=col>&lt;dbl&gt;</th><th scope=col>&lt;dbl&gt;</th><th scope=col>&lt;dbl&gt;</th><th scope=col>&lt;dbl&gt;</th><th scope=col>⋯</th><th scope=col>&lt;dbl&gt;</th><th scope=col>&lt;dbl&gt;</th><th scope=col>&lt;dbl&gt;</th><th scope=col>&lt;dbl&gt;</th><th scope=col>&lt;dbl&gt;</th><th scope=col>&lt;dbl&gt;</th><th scope=col>&lt;dbl&gt;</th><th scope=col>&lt;dbl&gt;</th><th scope=col>&lt;dbl&gt;</th><th scope=col>&lt;dbl&gt;</th></tr>\n",
       "</thead>\n",
       "<tbody>\n",
       "\t<tr><td>1</td><td>307274.07</td><td>4595343</td><td>ri</td><td>2002</td><td>  448.2835</td><td> 287.116</td><td>13.1753850</td><td>         NA</td><td>          NA</td><td>⋯</td><td>       NA</td><td>         NA</td><td>NA</td><td>      NA</td><td>NA</td><td>          NA</td><td>         NA</td><td>      NA</td><td>      NA</td><td>      NA</td></tr>\n",
       "\t<tr><td>2</td><td>299431.04</td><td>4631725</td><td>ri</td><td>2002</td><td> 6203.0493</td><td>4821.650</td><td> 4.5731921</td><td>0.032861600</td><td>2.185780e-02</td><td>⋯</td><td>       NA</td><td>         NA</td><td>NA</td><td>      NA</td><td>NA</td><td>          NA</td><td>         NA</td><td>      NA</td><td>      NA</td><td>      NA</td></tr>\n",
       "\t<tr><td>3</td><td>-62771.74</td><td>4418434</td><td>de</td><td>2002</td><td>19344.2975</td><td>1667.700</td><td> 0.0664879</td><td>0.014608788</td><td>9.536654e-05</td><td>⋯</td><td>11.967865</td><td>0.005408335</td><td> 0</td><td>6.503059</td><td>NA</td><td>1.772213e-05</td><td>0.000382529</td><td>3.917075</td><td>739.9173</td><td>3.059610</td></tr>\n",
       "\t<tr><td>4</td><td>-68823.39</td><td>4420210</td><td>de</td><td>2002</td><td>19829.8122</td><td> 624.536</td><td> 0.0357069</td><td>0.008624243</td><td>8.356429e-05</td><td>⋯</td><td> 5.315509</td><td>0.005806154</td><td> 0</td><td>6.186736</td><td>NA</td><td>9.182270e-06</td><td>0.000212115</td><td>1.937429</td><td>699.6137</td><td>0.806645</td></tr>\n",
       "</tbody>\n",
       "</table>\n"
      ],
      "text/latex": [
       "A data.frame: 4 × 147\n",
       "\\begin{tabular}{lllllllllllllllllllll}\n",
       " New\\_ID & x & y & state & year & Toxicity & Pop & Acetaldehyde & Acetonitrile & Acetophenone & ⋯ & Propylene.oxide & Sodium.nitrite & Titanium.tetrachloride & Toluenediisocyanate & o.Toluidine & X1.1.1.Trichloroethane & X2.4.5.Trichlorophenol & Urethane..Ethyl.carbamate. & Vinyl.chloride & p.Chloroaniline\\\\\n",
       " <int> & <dbl> & <dbl> & <chr> & <dbl> & <dbl> & <dbl> & <dbl> & <dbl> & <dbl> & ⋯ & <dbl> & <dbl> & <dbl> & <dbl> & <dbl> & <dbl> & <dbl> & <dbl> & <dbl> & <dbl>\\\\\n",
       "\\hline\n",
       "\t 1 & 307274.07 & 4595343 & ri & 2002 &   448.2835 &  287.116 & 13.1753850 &          NA &           NA & ⋯ &        NA &          NA & NA &       NA & NA &           NA &          NA &       NA &       NA &       NA\\\\\n",
       "\t 2 & 299431.04 & 4631725 & ri & 2002 &  6203.0493 & 4821.650 &  4.5731921 & 0.032861600 & 2.185780e-02 & ⋯ &        NA &          NA & NA &       NA & NA &           NA &          NA &       NA &       NA &       NA\\\\\n",
       "\t 3 & -62771.74 & 4418434 & de & 2002 & 19344.2975 & 1667.700 &  0.0664879 & 0.014608788 & 9.536654e-05 & ⋯ & 11.967865 & 0.005408335 &  0 & 6.503059 & NA & 1.772213e-05 & 0.000382529 & 3.917075 & 739.9173 & 3.059610\\\\\n",
       "\t 4 & -68823.39 & 4420210 & de & 2002 & 19829.8122 &  624.536 &  0.0357069 & 0.008624243 & 8.356429e-05 & ⋯ &  5.315509 & 0.005806154 &  0 & 6.186736 & NA & 9.182270e-06 & 0.000212115 & 1.937429 & 699.6137 & 0.806645\\\\\n",
       "\\end{tabular}\n"
      ],
      "text/markdown": [
       "\n",
       "A data.frame: 4 × 147\n",
       "\n",
       "| New_ID &lt;int&gt; | x &lt;dbl&gt; | y &lt;dbl&gt; | state &lt;chr&gt; | year &lt;dbl&gt; | Toxicity &lt;dbl&gt; | Pop &lt;dbl&gt; | Acetaldehyde &lt;dbl&gt; | Acetonitrile &lt;dbl&gt; | Acetophenone &lt;dbl&gt; | ⋯ ⋯ | Propylene.oxide &lt;dbl&gt; | Sodium.nitrite &lt;dbl&gt; | Titanium.tetrachloride &lt;dbl&gt; | Toluenediisocyanate &lt;dbl&gt; | o.Toluidine &lt;dbl&gt; | X1.1.1.Trichloroethane &lt;dbl&gt; | X2.4.5.Trichlorophenol &lt;dbl&gt; | Urethane..Ethyl.carbamate. &lt;dbl&gt; | Vinyl.chloride &lt;dbl&gt; | p.Chloroaniline &lt;dbl&gt; |\n",
       "|---|---|---|---|---|---|---|---|---|---|---|---|---|---|---|---|---|---|---|---|---|\n",
       "| 1 | 307274.07 | 4595343 | ri | 2002 |   448.2835 |  287.116 | 13.1753850 |          NA |           NA | ⋯ |        NA |          NA | NA |       NA | NA |           NA |          NA |       NA |       NA |       NA |\n",
       "| 2 | 299431.04 | 4631725 | ri | 2002 |  6203.0493 | 4821.650 |  4.5731921 | 0.032861600 | 2.185780e-02 | ⋯ |        NA |          NA | NA |       NA | NA |           NA |          NA |       NA |       NA |       NA |\n",
       "| 3 | -62771.74 | 4418434 | de | 2002 | 19344.2975 | 1667.700 |  0.0664879 | 0.014608788 | 9.536654e-05 | ⋯ | 11.967865 | 0.005408335 |  0 | 6.503059 | NA | 1.772213e-05 | 0.000382529 | 3.917075 | 739.9173 | 3.059610 |\n",
       "| 4 | -68823.39 | 4420210 | de | 2002 | 19829.8122 |  624.536 |  0.0357069 | 0.008624243 | 8.356429e-05 | ⋯ |  5.315509 | 0.005806154 |  0 | 6.186736 | NA | 9.182270e-06 | 0.000212115 | 1.937429 | 699.6137 | 0.806645 |\n",
       "\n"
      ],
      "text/plain": [
       "  New_ID x         y       state year Toxicity   Pop      Acetaldehyde\n",
       "1 1      307274.07 4595343 ri    2002   448.2835  287.116 13.1753850  \n",
       "2 2      299431.04 4631725 ri    2002  6203.0493 4821.650  4.5731921  \n",
       "3 3      -62771.74 4418434 de    2002 19344.2975 1667.700  0.0664879  \n",
       "4 4      -68823.39 4420210 de    2002 19829.8122  624.536  0.0357069  \n",
       "  Acetonitrile Acetophenone ⋯ Propylene.oxide Sodium.nitrite\n",
       "1          NA            NA ⋯        NA                NA   \n",
       "2 0.032861600  2.185780e-02 ⋯        NA                NA   \n",
       "3 0.014608788  9.536654e-05 ⋯ 11.967865       0.005408335   \n",
       "4 0.008624243  8.356429e-05 ⋯  5.315509       0.005806154   \n",
       "  Titanium.tetrachloride Toluenediisocyanate o.Toluidine X1.1.1.Trichloroethane\n",
       "1 NA                           NA            NA                    NA          \n",
       "2 NA                           NA            NA                    NA          \n",
       "3  0                     6.503059            NA          1.772213e-05          \n",
       "4  0                     6.186736            NA          9.182270e-06          \n",
       "  X2.4.5.Trichlorophenol Urethane..Ethyl.carbamate. Vinyl.chloride\n",
       "1          NA                  NA                         NA      \n",
       "2          NA                  NA                         NA      \n",
       "3 0.000382529            3.917075                   739.9173      \n",
       "4 0.000212115            1.937429                   699.6137      \n",
       "  p.Chloroaniline\n",
       "1       NA       \n",
       "2       NA       \n",
       "3 3.059610       \n",
       "4 0.806645       "
      ]
     },
     "metadata": {},
     "output_type": "display_data"
    }
   ],
   "source": [
    "spdf@data"
   ]
  },
  {
   "cell_type": "markdown",
   "metadata": {},
   "source": [
    "The data can also be saved as a shapefile. Note that the shapefile format truncates many of the column names. Note: if `rsei_output.shp` is already on your hard drive, then you will need to change the file name."
   ]
  },
  {
   "cell_type": "code",
   "execution_count": 30,
   "metadata": {},
   "outputs": [
    {
     "name": "stderr",
     "output_type": "stream",
     "text": [
      "Warning message in rgdal::writeOGR(x, filename, layer, driver = \"ESRI Shapefile\", :\n",
      "“Field names abbreviated for ESRI Shapefile driver”\n"
     ]
    }
   ],
   "source": [
    "spdf <- appendRSEI(sp_df, state=\"state\", year=\"year\", x_name=\"longitude\", y_name=\"latitude\",\n",
    "                   out_file=\"rsei_output.shp\")"
   ]
  },
  {
   "cell_type": "markdown",
   "metadata": {},
   "source": [
    "Or an RDS file (an R file type that when opened retains all the functionality of the original R object)."
   ]
  },
  {
   "cell_type": "code",
   "execution_count": 31,
   "metadata": {},
   "outputs": [],
   "source": [
    "spdf <- appendRSEI(sp_df, state=\"state\", year=\"year\", x_name=\"longitude\", y_name=\"latitude\",\n",
    "                   out_file=\"rsei_output.rds\")"
   ]
  },
  {
   "cell_type": "markdown",
   "metadata": {},
   "source": [
    "Available file types for `raster` are `rds` and those available through the `raster` package. Please note that some of the file types available through the raster package require the installation of the `rgdal`package or the `ncdf4` package. See the [`writeRaster` documentation](https://www.rdocumentation.org/packages/raster/versions/3.1-5/topics/writeRaster) for additional details. Those formats listed as not having mulitband support, `.asc`, `.sdat`, and `.rst`, are not suitable for the output and will produce an error if selected. State and year identifying information is appended to the front of a string entered into the `raster` parameter. "
   ]
  },
  {
   "cell_type": "markdown",
   "metadata": {},
   "source": [
    "To produce native raster format objects, set the extension of the `raster` parameter to `.grd`."
   ]
  },
  {
   "cell_type": "code",
   "execution_count": 32,
   "metadata": {},
   "outputs": [],
   "source": [
    "spdf <- appendRSEI(data=\"test_data/sp_df.shp\",state=\"state\",year=\"year\",raster=\".grd\")"
   ]
  },
  {
   "cell_type": "markdown",
   "metadata": {},
   "source": [
    "For GeoTiff formatted `raster` output, use:"
   ]
  },
  {
   "cell_type": "code",
   "execution_count": 33,
   "metadata": {},
   "outputs": [],
   "source": [
    "spdf <- appendRSEI(data=\"test_data/sp_df.shp\",state=\"state\",year=\"year\",raster=\".tif\")"
   ]
  },
  {
   "cell_type": "markdown",
   "metadata": {},
   "source": [
    "Multiple other formats available from the `raster` package can also be passed."
   ]
  }
 ],
 "metadata": {
  "kernelspec": {
   "display_name": "R",
   "language": "R",
   "name": "ir"
  },
  "language_info": {
   "codemirror_mode": "r",
   "file_extension": ".r",
   "mimetype": "text/x-r-source",
   "name": "R",
   "pygments_lexer": "r",
   "version": "4.0.0"
  }
 },
 "nbformat": 4,
 "nbformat_minor": 4
}
